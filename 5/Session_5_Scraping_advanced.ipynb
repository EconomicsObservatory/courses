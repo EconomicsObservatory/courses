{
  "cells": [
    {
      "attachments": {},
      "cell_type": "markdown",
      "metadata": {},
      "source": [
        "<a href=\"https://colab.research.google.com/github/EconomicsObservatory/courses/blob/main/5/Session_5_Scraping_advanced.ipynb\" target=\"_blank\"><img src=\"https://colab.research.google.com/assets/colab-badge.svg\" alt=\"Open In Colab\"/></a>"
      ]
    },
    {
      "attachments": {},
      "cell_type": "markdown",
      "metadata": {
        "id": "3RUSEHd29h6X"
      },
      "source": [
        "# Scraping the HTML source (advanced)\n",
        "\n",
        "Scraping HTML tables is easy, but sometimes we want to access data that isn't as nicely formatted. For example:\n",
        "\n",
        "- **Prices**: you might want data on a type of product or from a shop\n",
        "- **Weather**: maybe you want to automate the collection of weather data from the Met office or weather.com\n",
        "- **News and Media**: Scraping headlines and summaries can tell you about current affairs\n",
        "\n",
        "In this example, we will scrape the Economics Observatory website to collect the latest article names and taglines to tell us about what is being reported.\n",
        "\n",
        "## Investigating the webpage\n",
        "\n",
        "Before writing any code, let's take a look at the webpage.\n",
        "\n",
        "<img\n",
        "style=\"max-height: 250px;\n",
        "    width: auto;\" src=\"https://raw.githubusercontent.com/jhellingsdata/RADataHub/main/misc/Masterclass/section%205/images/eco_website.png\"> </img>\n",
        "\n",
        "We want to extract a list of article titles, such as \"What do we know about labour market power in the UK?\". To do this, we need to know where they appear in the HTML and how they are defined. By using inspect-element (right/ctrl click), we can see the HTML code that creates the titles.\n",
        "\n",
        "<img\n",
        "style=\"max-height: 250px;\n",
        "    width: auto;\" src=\"https://raw.githubusercontent.com/jhellingsdata/RADataHub/main/misc/Masterclass/section%205/images/inspect_element.png\"> </img>\n",
        "\n",
        "Here we can see that article titles have the class \"home__blocks-item-title\". We'll use this information to extract just the article titles."
      ]
    },
    {
      "cell_type": "code",
      "execution_count": 25,
      "metadata": {},
      "outputs": [],
      "source": [
        "# First we need to import the libraries we will be using\n",
        "import pandas as pd\n",
        "import requests\n",
        "from bs4 import BeautifulSoup"
      ]
    },
    {
      "attachments": {},
      "cell_type": "markdown",
      "metadata": {
        "id": "VuCxs4izFLQD"
      },
      "source": [
        "## Scraping the page\n",
        "\n",
        "First, we'll download the HTML which defines the page, using the requests module."
      ]
    },
    {
      "cell_type": "code",
      "execution_count": 2,
      "metadata": {
        "id": "bgwjVswX9hJe"
      },
      "outputs": [],
      "source": [
        "req = requests.get(\"https://www.economicsobservatory.com\") # Make a request to the ECO home-page\n",
        "page_html = req.text # store the HTML in page_html"
      ]
    },
    {
      "attachments": {},
      "cell_type": "markdown",
      "metadata": {
        "id": "l_nGUpFyDYcj"
      },
      "source": [
        "Now we have the page's source stored in {{page_html}}. Next we're going to use a module called BeautifulSoup to turn this text into a representation of the page we can interact with. We'll store this in a variable called {{soup}}."
      ]
    },
    {
      "cell_type": "code",
      "execution_count": 3,
      "metadata": {
        "id": "4kTtbNFfDzXS"
      },
      "outputs": [],
      "source": [
        "soup = BeautifulSoup(page_html, 'html.parser') # Create a BeautifulSoup object to interact with the page's HTML"
      ]
    },
    {
      "attachments": {},
      "cell_type": "markdown",
      "metadata": {
        "id": "9vGCAMSqGiS2"
      },
      "source": [
        "Now we'll look for article titles by searching for elements with the class \"home__blocks-item-title\" which we identified above.\n"
      ]
    },
    {
      "cell_type": "code",
      "execution_count": 9,
      "metadata": {
        "colab": {
          "base_uri": "https://localhost:8080/"
        },
        "id": "QJHYgoQSGiCM",
        "outputId": "92357eed-911a-441c-9c22-80be19915d0c"
      },
      "outputs": [
        {
          "data": {
            "text/plain": [
              "['Is work in the UK becoming more insecure?',\n",
              " 'What do we know about labour market power in the UK?',\n",
              " 'How can we reduce gender gaps in mathematics education?',\n",
              " 'How have minorities been treated by the UK’s judicial system?',\n",
              " 'How are plastics harming marine ecosystems?',\n",
              " 'Read the latest edition of our magazine here',\n",
              " 'How might house prices affect workers’ productivity in OECD economies?',\n",
              " 'Youth custody: who ends up there and how does it affect their later lives?',\n",
              " 'Central Bank Independence by Continent',\n",
              " 'The UK’s productivity gap: what did it look like twenty years ago?',\n",
              " 'Slow growing',\n",
              " 'Could a new policy institution help solve the UK’s productivity problem?',\n",
              " 'Which investments in human capital will boost productivity growth?',\n",
              " 'What’s worth reading over the 2023 holiday season?']"
            ]
          },
          "execution_count": 9,
          "metadata": {},
          "output_type": "execute_result"
        }
      ],
      "source": [
        "article_title_elements = soup.find_all(class_=\"home__blocks-item-title\") # Find all elements with the class \"home__blocks-item-title\"\n",
        "article_titles = [element.text for element in article_title_elements] # Extract the text from each element\n",
        "article_titles"
      ]
    },
    {
      "attachments": {},
      "cell_type": "markdown",
      "metadata": {},
      "source": [
        "We also care about the taglines/'teasers' of each article.\n",
        "\n",
        "These are contained in \\<spans\\> and \\<p\\> tags contained in divs with the class \"home__blocks-item-teaser display\""
      ]
    },
    {
      "cell_type": "code",
      "execution_count": 10,
      "metadata": {},
      "outputs": [
        {
          "data": {
            "text/plain": [
              "['The increase in zero-hour contracts and the emergence of the gig economy over the past decade have raised concerns that working life is becoming less secure. Evidence suggests that while the share of workers experiencing insecure work has not gone up, some groups are more at risk.',\n",
              " 'Disparate treatment of minorities by the judicial system is not a construct of modern institutions. Irish defendants and victims faced harsher treatment and outcomes at London’s Old Bailey in the 19th century. Lessons from this period can help to inform criminal justice policy today.',\n",
              " 'The oceans have become a waste-sink for plastics—just like the atmosphere is for greenhouse gas emissions. A higher carbon price may help tackle both problems.',\n",
              " 'Higher house prices may be partly to blame for the sluggish growth of labour productivity in the OECD countries in recent decades. The adverse impact seems to be less severe in more complex economies – those that produce a greater diversity of products based on specialised know-how.',\n",
              " 'There are severe long-term consequences for young people in the UK who spend time in youth custody, the majority of whom are boys. Those with very low grades, in special education facilities and with additional educational needs are also more vulnerable to ending up in youth custody.',\n",
              " 'How to boost UK productivity growth has long been a central concern of economic researchers and policy-makers. A report written twenty years ago highlights the continuing challenges of achieving that ambition, including the key roles of competition, investment, skills, innovation and technology.',\n",
              " 'Reigniting productivity growth in the UK requires greater investment and better coordination of policy. An effective strategy should address inequalities across the country, as well as considering the institutions, skills and technologies needed to bridge the gap with comparable advanced economies.',\n",
              " 'Developing people’s knowledge and skills – their ‘human capital’ – is thought to be critical for improving productivity and sustaining economic growth. Empirical research suggests this link is surprisingly dubious, but measurement challenges may help explain this.',\n",
              " 'The lead editors of the Economics Observatory have shared their book recommendations for the holidays. Many of this year’s suggested reads have a historical focus, but they also reflect some of the big challenges we face today.']"
            ]
          },
          "execution_count": 10,
          "metadata": {},
          "output_type": "execute_result"
        }
      ],
      "source": [
        "# find all divs with the class \"home__blocks-item-teaser display\"\n",
        "tagline_divs = soup.find_all(class_=\"home__blocks-item-teaser display\")\n",
        "# get all the <p> tags from the tagline_divs\n",
        "taglines = [div.find(\"p\") for div in tagline_divs]\n",
        "# extract the text from each tag\n",
        "tagline_texts = [tagline.text for tagline in taglines]\n",
        "tagline_texts"
      ]
    },
    {
      "attachments": {},
      "cell_type": "markdown",
      "metadata": {
        "id": "_Dvhz5-NG5O0"
      },
      "source": [
        "And where from here?\n",
        "We now have a list of articles, how could this be useful?\n",
        "\n",
        "- **Automated News Roundups**: you could write code to collect news titles each day to produce a daily roundup\n",
        "- **Sentiment Analysis**: If you scale up the data collection, you could perform [sentiment analysis](https://en.wikipedia.org/wiki/Sentiment_analysis) to learn about the emotional valience of news stories.\n",
        "\n",
        "### Making a Chart: Term Frequencies\n",
        "\n",
        "Today, we can make a chart of term frequencies from the headlines. This will tell us about the topics covered by the website.\n",
        "\n",
        "To do this, we will:\n",
        "\n",
        "1. Define a list of common words to avoid (e.g. \"the\", \"how\", \"should\")\n",
        "2. Work out how many times each word appears, excluding the common words\n",
        "3. Save our data\n",
        "\n",
        "#### 1: Making a list of common words\n",
        "\n",
        "Thankfully, someone has already defined a list of common words [here](https://raw.githubusercontent.com/6/stopwords-json/master/dist/en.json). We can download this list to use."
      ]
    },
    {
      "cell_type": "code",
      "execution_count": 13,
      "metadata": {
        "id": "HwZ5OdobUhMH"
      },
      "outputs": [],
      "source": [
        "# downloading the list of common words into a list\n",
        "common_words = requests.get(\"https://raw.githubusercontent.com/6/stopwords-json/master/dist/en.json\").json()"
      ]
    },
    {
      "attachments": {},
      "cell_type": "markdown",
      "metadata": {
        "id": "IqhgvmfTUkbg"
      },
      "source": [
        "#### 2: Count How many Times each word appears"
      ]
    },
    {
      "cell_type": "code",
      "execution_count": 22,
      "metadata": {
        "colab": {
          "base_uri": "https://localhost:8080/"
        },
        "id": "2L09lieBHjTr",
        "outputId": "220310eb-1840-4b36-b6d7-8f99dd5f9113"
      },
      "outputs": [
        {
          "data": {
            "text/plain": [
              "{'work': 2,\n",
              " 'uk': 4,\n",
              " 'labour': 2,\n",
              " 'market': 1,\n",
              " 'power': 1,\n",
              " 'reduce': 1,\n",
              " 'gender': 1,\n",
              " 'gaps': 1,\n",
              " 'mathematics': 1,\n",
              " 'minorities': 2,\n",
              " 'treated': 1,\n",
              " 'judicial': 2,\n",
              " 'plastics': 1,\n",
              " 'harming': 1,\n",
              " 'marine': 1,\n",
              " 'read': 1,\n",
              " 'latest': 1,\n",
              " 'edition': 1,\n",
              " 'magazine': 1,\n",
              " 'house': 2,\n",
              " 'prices': 2,\n",
              " 'affect': 2,\n",
              " 'productivity': 8,\n",
              " 'oecd': 2,\n",
              " 'youth': 3,\n",
              " 'ends': 1,\n",
              " 'central': 2,\n",
              " 'bank': 1,\n",
              " 'independence': 1,\n",
              " 'continent': 1,\n",
              " 'twenty': 2,\n",
              " 'years': 2,\n",
              " 'slow': 1,\n",
              " 'growing': 1,\n",
              " 'policy': 2,\n",
              " 'institution': 1,\n",
              " 'solve': 1,\n",
              " 'investments': 1,\n",
              " 'human': 1,\n",
              " 'capital': 1,\n",
              " 'boost': 2,\n",
              " 'worth': 1,\n",
              " 'reading': 1,\n",
              " 'holiday': 1,\n",
              " 'increase': 1,\n",
              " 'contracts': 1,\n",
              " 'emergence': 1,\n",
              " 'gig': 1,\n",
              " 'economy': 1,\n",
              " 'past': 1,\n",
              " 'decade': 1,\n",
              " 'raised': 1,\n",
              " 'concerns': 1,\n",
              " 'working': 1,\n",
              " 'life': 1,\n",
              " 'evidence': 1,\n",
              " 'suggests': 2,\n",
              " 'share': 1,\n",
              " 'workers': 1,\n",
              " 'experiencing': 1,\n",
              " 'insecure': 1,\n",
              " 'groups': 1,\n",
              " 'disparate': 1,\n",
              " 'treatment': 2,\n",
              " 'system': 1,\n",
              " 'construct': 1,\n",
              " 'modern': 1,\n",
              " 'irish': 1,\n",
              " 'defendants': 1,\n",
              " 'victims': 1,\n",
              " 'faced': 1,\n",
              " 'harsher': 1,\n",
              " 'outcomes': 1,\n",
              " 'bailey': 1,\n",
              " 'lessons': 1,\n",
              " 'period': 1,\n",
              " 'inform': 1,\n",
              " 'criminal': 1,\n",
              " 'justice': 1,\n",
              " 'oceans': 1,\n",
              " 'atmosphere': 1,\n",
              " 'greenhouse': 1,\n",
              " 'gas': 1,\n",
              " 'higher': 2,\n",
              " 'carbon': 1,\n",
              " 'price': 1,\n",
              " 'tackle': 1,\n",
              " 'partly': 1,\n",
              " 'blame': 1,\n",
              " 'sluggish': 1,\n",
              " 'growth': 3,\n",
              " 'countries': 1,\n",
              " 'recent': 1,\n",
              " 'adverse': 1,\n",
              " 'impact': 1,\n",
              " 'severe': 2,\n",
              " 'complex': 1,\n",
              " 'economies': 1,\n",
              " 'produce': 1,\n",
              " 'greater': 2,\n",
              " 'diversity': 1,\n",
              " 'products': 1,\n",
              " 'based': 1,\n",
              " 'specialised': 1,\n",
              " 'consequences': 1,\n",
              " 'young': 1,\n",
              " 'people': 1,\n",
              " 'spend': 1,\n",
              " 'time': 1,\n",
              " 'majority': 1,\n",
              " 'low': 1,\n",
              " 'special': 1,\n",
              " 'education': 1,\n",
              " 'facilities': 1,\n",
              " 'additional': 1,\n",
              " 'educational': 1,\n",
              " 'vulnerable': 1,\n",
              " 'ending': 1,\n",
              " 'long': 1,\n",
              " 'concern': 1,\n",
              " 'economic': 2,\n",
              " 'researchers': 1,\n",
              " 'report': 1,\n",
              " 'written': 1,\n",
              " 'ago': 1,\n",
              " 'highlights': 1,\n",
              " 'continuing': 1,\n",
              " 'challenges': 3,\n",
              " 'achieving': 1,\n",
              " 'including': 1,\n",
              " 'key': 1,\n",
              " 'roles': 1,\n",
              " 'innovation': 1,\n",
              " 'reigniting': 1,\n",
              " 'requires': 1,\n",
              " 'investment': 1,\n",
              " 'coordination': 1,\n",
              " 'effective': 1,\n",
              " 'strategy': 1,\n",
              " 'address': 1,\n",
              " 'inequalities': 1,\n",
              " 'skills': 2,\n",
              " 'technologies': 1,\n",
              " 'needed': 1,\n",
              " 'bridge': 1,\n",
              " 'gap': 1,\n",
              " 'comparable': 1,\n",
              " 'advanced': 1,\n",
              " 'developing': 1,\n",
              " 'knowledge': 1,\n",
              " 'thought': 1,\n",
              " 'critical': 1,\n",
              " 'improving': 1,\n",
              " 'sustaining': 1,\n",
              " 'empirical': 1,\n",
              " 'research': 1,\n",
              " 'link': 1,\n",
              " 'surprisingly': 1,\n",
              " 'measurement': 1,\n",
              " 'explain': 1,\n",
              " 'lead': 1,\n",
              " 'editors': 1,\n",
              " 'economics': 1,\n",
              " 'observatory': 1,\n",
              " 'shared': 1,\n",
              " 'book': 1,\n",
              " 'recommendations': 1,\n",
              " 'suggested': 1,\n",
              " 'reads': 1,\n",
              " 'historical': 1,\n",
              " 'reflect': 1,\n",
              " 'big': 1,\n",
              " 'face': 1}"
            ]
          },
          "execution_count": 22,
          "metadata": {},
          "output_type": "execute_result"
        }
      ],
      "source": [
        "# we'll store how many times each word appears in words\n",
        "words = {}\n",
        "\n",
        "# using a loop to go through every article title and tagline\n",
        "for text in article_titles+tagline_texts:\n",
        "  text = text.lower() # making it lowercase\n",
        "  for word in text.split():\n",
        "    if word in common_words or not word.isalpha():\n",
        "      continue # if this word is a common word (e.g. \"the\"), skip it\n",
        "    if word in words: # if we've already seen this word, just increase the count\n",
        "      words[word] += 1\n",
        "    else:\n",
        "      words[word] = 1\n",
        "\n",
        "words"
      ]
    },
    {
      "attachments": {},
      "cell_type": "markdown",
      "metadata": {},
      "source": [
        "#### 3: Saving the data"
      ]
    },
    {
      "cell_type": "code",
      "execution_count": 24,
      "metadata": {},
      "outputs": [],
      "source": [
        "df = pd.DataFrame(words.items(), columns=[\"word\", \"count\"]) # Create a DataFrame from the words dictionary\n",
        "df = df.sort_values(\"count\", ascending=False).head(10) # Sort the DataFrame by count and take the top 10\n",
        "df.to_csv(\"top_words.csv\", index=False) # Save the DataFrame to a CSV file\n"
      ]
    },
    {
      "attachments": {},
      "cell_type": "markdown",
      "metadata": {
        "id": "H_qYPBYhTO41"
      },
      "source": []
    }
  ],
  "metadata": {
    "colab": {
      "provenance": [],
      "toc_visible": true
    },
    "kernelspec": {
      "display_name": "base",
      "language": "python",
      "name": "python3"
    },
    "language_info": {
      "codemirror_mode": {
        "name": "ipython",
        "version": 3
      },
      "file_extension": ".py",
      "mimetype": "text/x-python",
      "name": "python",
      "nbconvert_exporter": "python",
      "pygments_lexer": "ipython3",
      "version": "3.11.4"
    }
  },
  "nbformat": 4,
  "nbformat_minor": 0
}
