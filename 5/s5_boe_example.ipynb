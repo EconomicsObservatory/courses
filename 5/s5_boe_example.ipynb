{
 "cells": [
  {
   "cell_type": "code",
   "execution_count": 66,
   "metadata": {},
   "outputs": [],
   "source": [
    "import pandas as pd\n",
    "import numpy as np"
   ]
  },
  {
   "cell_type": "markdown",
   "metadata": {},
   "source": [
    "# Transforming Data\n",
    "\n",
    "The bread and butter of a data workflow is cleaning and preparation, taking raw datasets and transforming them into a useful form.\n",
    "\n",
    "Today, we'll use some prescription cost data from the NHS to make a chart of the top 50 most used Cardiovascular substances.\n",
    "\n",
    "</br></br></br></br>\n"
   ]
  },
  {
   "cell_type": "markdown",
   "metadata": {},
   "source": [
    "## Introducing Tools: Pandas\n",
    "\n",
    "The first tool we'll use today is `Pandas`, a Python library used to work with datasets. It provides access to `DataFrames` - tables we analyse with code.\n",
    "\n",
    "Python already has a few built in data structures, for example lists and dictionaries:\n",
    "\n",
    "</br></br></br>"
   ]
  },
  {
   "cell_type": "code",
   "execution_count": 58,
   "metadata": {},
   "outputs": [],
   "source": [
    "london = {\n",
    "    \"name\": \"London\",\n",
    "    \"population\": 8308369,\n",
    "    \"area\": 1572\n",
    "} # This is an example of a dictionary\n",
    "\n",
    "locations = [\n",
    "    {\n",
    "        \"name\": \"London\",\n",
    "        \"population\": 8_982_000,\n",
    "        \"area\": 606\n",
    "    },\n",
    "    {\n",
    "        \"name\": \"Newport\",\n",
    "        \"population\": 128_060,\n",
    "        \"area\": 32.52\n",
    "    },\n",
    "    {\n",
    "        \"name\": \"Darlington\",\n",
    "        \"population\": 93_015,\n",
    "        \"area\": 7.62\n",
    "    },\n",
    "\n",
    "]"
   ]
  },
  {
   "cell_type": "markdown",
   "metadata": {},
   "source": [
    "\n",
    "<br>\n",
    "<br>\n",
    "<br>\n",
    "<br>\n",
    "Which we can turn into Pandas `DataFrames`"
   ]
  },
  {
   "cell_type": "code",
   "execution_count": 59,
   "metadata": {},
   "outputs": [
    {
     "data": {
      "text/html": [
       "<div>\n",
       "<style scoped>\n",
       "    .dataframe tbody tr th:only-of-type {\n",
       "        vertical-align: middle;\n",
       "    }\n",
       "\n",
       "    .dataframe tbody tr th {\n",
       "        vertical-align: top;\n",
       "    }\n",
       "\n",
       "    .dataframe thead th {\n",
       "        text-align: right;\n",
       "    }\n",
       "</style>\n",
       "<table border=\"1\" class=\"dataframe\">\n",
       "  <thead>\n",
       "    <tr style=\"text-align: right;\">\n",
       "      <th></th>\n",
       "      <th>name</th>\n",
       "      <th>population</th>\n",
       "      <th>area</th>\n",
       "    </tr>\n",
       "  </thead>\n",
       "  <tbody>\n",
       "    <tr>\n",
       "      <th>0</th>\n",
       "      <td>London</td>\n",
       "      <td>8982000</td>\n",
       "      <td>606.00</td>\n",
       "    </tr>\n",
       "    <tr>\n",
       "      <th>1</th>\n",
       "      <td>Newport</td>\n",
       "      <td>128060</td>\n",
       "      <td>32.52</td>\n",
       "    </tr>\n",
       "    <tr>\n",
       "      <th>2</th>\n",
       "      <td>Darlington</td>\n",
       "      <td>93015</td>\n",
       "      <td>7.62</td>\n",
       "    </tr>\n",
       "  </tbody>\n",
       "</table>\n",
       "</div>"
      ],
      "text/plain": [
       "         name  population    area\n",
       "0      London     8982000  606.00\n",
       "1     Newport      128060   32.52\n",
       "2  Darlington       93015    7.62"
      ]
     },
     "execution_count": 59,
     "metadata": {},
     "output_type": "execute_result"
    }
   ],
   "source": [
    "df = pd.DataFrame(locations)\n",
    "df"
   ]
  },
  {
   "cell_type": "markdown",
   "metadata": {},
   "source": [
    "<br>\n",
    "<br>\n",
    "<br></br></br>\n",
    "\n",
    "<br>\n",
    "\n",
    "and manipulate in different ways.\n",
    "\n",
    "For example, we can add a density column:"
   ]
  },
  {
   "cell_type": "code",
   "execution_count": 60,
   "metadata": {},
   "outputs": [
    {
     "data": {
      "text/html": [
       "<div>\n",
       "<style scoped>\n",
       "    .dataframe tbody tr th:only-of-type {\n",
       "        vertical-align: middle;\n",
       "    }\n",
       "\n",
       "    .dataframe tbody tr th {\n",
       "        vertical-align: top;\n",
       "    }\n",
       "\n",
       "    .dataframe thead th {\n",
       "        text-align: right;\n",
       "    }\n",
       "</style>\n",
       "<table border=\"1\" class=\"dataframe\">\n",
       "  <thead>\n",
       "    <tr style=\"text-align: right;\">\n",
       "      <th></th>\n",
       "      <th>name</th>\n",
       "      <th>population</th>\n",
       "      <th>area</th>\n",
       "      <th>density</th>\n",
       "    </tr>\n",
       "  </thead>\n",
       "  <tbody>\n",
       "    <tr>\n",
       "      <th>0</th>\n",
       "      <td>London</td>\n",
       "      <td>8982000</td>\n",
       "      <td>606.00</td>\n",
       "      <td>14821.782178</td>\n",
       "    </tr>\n",
       "    <tr>\n",
       "      <th>1</th>\n",
       "      <td>Newport</td>\n",
       "      <td>128060</td>\n",
       "      <td>32.52</td>\n",
       "      <td>3937.884379</td>\n",
       "    </tr>\n",
       "    <tr>\n",
       "      <th>2</th>\n",
       "      <td>Darlington</td>\n",
       "      <td>93015</td>\n",
       "      <td>7.62</td>\n",
       "      <td>12206.692913</td>\n",
       "    </tr>\n",
       "  </tbody>\n",
       "</table>\n",
       "</div>"
      ],
      "text/plain": [
       "         name  population    area       density\n",
       "0      London     8982000  606.00  14821.782178\n",
       "1     Newport      128060   32.52   3937.884379\n",
       "2  Darlington       93015    7.62  12206.692913"
      ]
     },
     "execution_count": 60,
     "metadata": {},
     "output_type": "execute_result"
    }
   ],
   "source": [
    "df['density'] = df['population'] / df['area']\n",
    "df"
   ]
  },
  {
   "cell_type": "code",
   "execution_count": 61,
   "metadata": {},
   "outputs": [
    {
     "data": {
      "text/html": [
       "<div>\n",
       "<style scoped>\n",
       "    .dataframe tbody tr th:only-of-type {\n",
       "        vertical-align: middle;\n",
       "    }\n",
       "\n",
       "    .dataframe tbody tr th {\n",
       "        vertical-align: top;\n",
       "    }\n",
       "\n",
       "    .dataframe thead th {\n",
       "        text-align: right;\n",
       "    }\n",
       "</style>\n",
       "<table border=\"1\" class=\"dataframe\">\n",
       "  <thead>\n",
       "    <tr style=\"text-align: right;\">\n",
       "      <th></th>\n",
       "      <th>name</th>\n",
       "      <th>population</th>\n",
       "      <th>area</th>\n",
       "      <th>density</th>\n",
       "    </tr>\n",
       "  </thead>\n",
       "  <tbody>\n",
       "    <tr>\n",
       "      <th>0</th>\n",
       "      <td>London</td>\n",
       "      <td>8982000</td>\n",
       "      <td>606.00</td>\n",
       "      <td>14821.782178</td>\n",
       "    </tr>\n",
       "    <tr>\n",
       "      <th>2</th>\n",
       "      <td>Darlington</td>\n",
       "      <td>93015</td>\n",
       "      <td>7.62</td>\n",
       "      <td>12206.692913</td>\n",
       "    </tr>\n",
       "    <tr>\n",
       "      <th>1</th>\n",
       "      <td>Newport</td>\n",
       "      <td>128060</td>\n",
       "      <td>32.52</td>\n",
       "      <td>3937.884379</td>\n",
       "    </tr>\n",
       "  </tbody>\n",
       "</table>\n",
       "</div>"
      ],
      "text/plain": [
       "         name  population    area       density\n",
       "0      London     8982000  606.00  14821.782178\n",
       "2  Darlington       93015    7.62  12206.692913\n",
       "1     Newport      128060   32.52   3937.884379"
      ]
     },
     "execution_count": 61,
     "metadata": {},
     "output_type": "execute_result"
    }
   ],
   "source": [
    "sorted_df = df.sort_values(by=\"density\", ascending=False)\n",
    "sorted_df"
   ]
  },
  {
   "cell_type": "markdown",
   "metadata": {},
   "source": [
    "# Participant Data: CHAPS Volume\n",
    "\n",
    "Let's start by loading the data and setting column names."
   ]
  },
  {
   "cell_type": "code",
   "execution_count": 62,
   "metadata": {},
   "outputs": [],
   "source": [
    "df = pd.read_excel(\"sample_data/historic-monthly-payments-statistics.xls\", skiprows=7, usecols=range(1,11))\n",
    "df.columns = [\n",
    "    \"year\", \"month\", \"gbp_volume\", \"euro_volume_domestic\", \"euro_volume_target\", \"empty\",  \"empty\",  \"gbp_value\", \"euro_value_domestic\", \"euro_value_target\"\n",
    "]\n",
    "\n"
   ]
  },
  {
   "cell_type": "markdown",
   "metadata": {},
   "source": [
    "</br></br></br>\n",
    "\n",
    "We only care about the date and the value - let's filter for these and format the date."
   ]
  },
  {
   "cell_type": "code",
   "execution_count": 63,
   "metadata": {},
   "outputs": [],
   "source": [
    "df = df[['year', 'month', 'gbp_value']] # we only need the year, month and gbp_value columns\n",
    "\n",
    "# drop rows without values\n",
    "df = df.dropna(subset=['gbp_value'])\n",
    "\n",
    "# fill forward the year\n",
    "df['year'] = df['year'].ffill()\n",
    "\n",
    "# make a date column, merging the year and month columns\n",
    "df['date'] = pd.to_datetime(df['year'].astype(str) + '-' + df['month'].astype(str) + '-01')\n",
    "\n",
    "# keep only the date and gbp_value columns\n",
    "df = df[['date', 'gbp_value']]\n",
    "\n",
    "# multiply the gbp_value by 1,000 - it's in £000s at the moment\n",
    "df['gbp_value'] = df['gbp_value'] * 1000\n"
   ]
  },
  {
   "cell_type": "markdown",
   "metadata": {},
   "source": [
    "</br></br></br>\n",
    "\n",
    "We also want the change - we can use panda's `pct_change` function."
   ]
  },
  {
   "cell_type": "code",
   "execution_count": 64,
   "metadata": {},
   "outputs": [],
   "source": [
    "\n",
    "# calculate the year-on-year change\n",
    "df['change'] = df['gbp_value'].pct_change(12)\n",
    "\n",
    "df = df.melt(id_vars=['date'], value_vars=['gbp_value', 'change'], var_name='series', value_name='value')\n"
   ]
  },
  {
   "cell_type": "markdown",
   "metadata": {},
   "source": [
    "</br></br></br>\n",
    "\n",
    "Finally, we can export the data."
   ]
  },
  {
   "cell_type": "code",
   "execution_count": 65,
   "metadata": {},
   "outputs": [],
   "source": [
    "\n",
    "df.to_csv(\"sample_data/chaps_values.csv\", index=False)"
   ]
  }
 ],
 "metadata": {
  "kernelspec": {
   "display_name": "base",
   "language": "python",
   "name": "python3"
  },
  "language_info": {
   "codemirror_mode": {
    "name": "ipython",
    "version": 3
   },
   "file_extension": ".py",
   "mimetype": "text/x-python",
   "name": "python",
   "nbconvert_exporter": "python",
   "pygments_lexer": "ipython3",
   "version": "3.11.4"
  }
 },
 "nbformat": 4,
 "nbformat_minor": 2
}
