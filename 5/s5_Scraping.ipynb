{
  "cells": [
    {
      "cell_type": "markdown",
      "metadata": {
        "id": "2KNrEFkpxE3M"
      },
      "source": [
        "[![Binder](http://mybinder.org/badge_logo.svg)](https://mybinder.org/v2/gh/EconomicsObservatory/courses/HEAD?labpath=5%2Fs5_Scraping.ipynb)\n",
        "\n",
        "<a href=\"https://colab.research.google.com/github/EconomicsObservatory/courses/blob/main/5/s5_Scraping.ipynb\" target=\"_blank\"><img src=\"https://colab.research.google.com/assets/colab-badge.svg\" alt=\"Open In Colab\"/></a>"
      ]
    },
    {
      "cell_type": "markdown",
      "metadata": {
        "id": "3RUSEHd29h6X"
      },
      "source": [
        "# Scraping the HTML source (advanced)\n",
        "\n",
        "Sometimes we want to access data that isn't as nicely formatted. For example:\n",
        "\n",
        "- **Prices**: you might want data on a type of product or from a shop\n",
        "- **Weather**: maybe you want to automate the collection of weather data from the Met office or weather.com\n",
        "- **News and Media**: Scraping headlines and summaries can tell you about current affairs\n",
        "\n",
        "In this example, we will scrape the Economics Observatory website to collect the latest article names and taglines to tell us about what is being reported.\n",
        "\n",
        "## Investigating the webpage\n",
        "\n",
        "Before writing any code, let's take a look at the webpage.\n",
        "\n",
        "<img\n",
        "style=\"max-height: 250px;\n",
        "    width: auto;\" src=\"https://raw.githubusercontent.com/jhellingsdata/RADataHub/main/misc/Masterclass/section%205/images/eco_website.png\"> </img>\n",
        "\n",
        "We want to extract a list of article titles, such as \"What do we know about labour market power in the UK?\". To do this, we need to know where they appear in the HTML and how they are defined. By using inspect-element (right/ctrl click), we can see the HTML code that creates the titles.\n",
        "\n",
        "<img\n",
        "style=\"max-height: 250px;\n",
        "    width: auto;\" src=\"https://raw.githubusercontent.com/jhellingsdata/RADataHub/main/misc/Masterclass/section%205/images/inspect_element.png\"> </img>\n",
        "\n",
        "Here we can see that article titles have the class \"home__blocks-item-title\". We'll use this information to extract just the article titles.\n",
        "\n",
        "Before we start writing code to scrape, we need to install and load the packages we need."
      ]
    },
    {
      "cell_type": "code",
      "execution_count": null,
      "metadata": {},
      "outputs": [],
      "source": [
        "%pip install pandas"
      ]
    },
    {
      "cell_type": "code",
      "execution_count": 1,
      "metadata": {
        "id": "E5fvvGrhxE3R"
      },
      "outputs": [],
      "source": [
        "# First we need to import the libraries we will be using\n",
        "import pandas as pd\n",
        "import requests\n",
        "from bs4 import BeautifulSoup\n",
        "from collections import Counter\n"
      ]
    },
    {
      "cell_type": "markdown",
      "metadata": {
        "id": "VuCxs4izFLQD"
      },
      "source": [
        "## Scraping the page\n",
        "\n",
        "First, we'll download the HTML which defines the page, using the requests module."
      ]
    },
    {
      "cell_type": "code",
      "execution_count": 2,
      "metadata": {
        "id": "bgwjVswX9hJe"
      },
      "outputs": [],
      "source": [
        "req = requests.get(\"https://www.economicsobservatory.com\") # Make a request to the ECO home-page\n",
        "page_html = req.text # store the HTML in page_html"
      ]
    },
    {
      "cell_type": "markdown",
      "metadata": {
        "id": "l_nGUpFyDYcj"
      },
      "source": [
        "Now we have the page's source stored in {{page_html}}. Next we're going to use a module called BeautifulSoup to turn this text into a representation of the page we can interact with. We'll store this in a variable called {{soup}}."
      ]
    },
    {
      "cell_type": "code",
      "execution_count": 3,
      "metadata": {
        "id": "4kTtbNFfDzXS"
      },
      "outputs": [],
      "source": [
        "soup = BeautifulSoup(page_html, 'html.parser') # Create a BeautifulSoup object to interact with the page's HTML"
      ]
    },
    {
      "cell_type": "markdown",
      "metadata": {
        "id": "9vGCAMSqGiS2"
      },
      "source": [
        "Now we'll look for article titles by searching for elements with the class \"home__blocks-item-title\" which we identified above.\n"
      ]
    },
    {
      "cell_type": "code",
      "execution_count": 27,
      "metadata": {
        "colab": {
          "base_uri": "https://localhost:8080/"
        },
        "id": "QJHYgoQSGiCM",
        "outputId": "c2326659-1c10-46a8-fdad-b3be0407e65c"
      },
      "outputs": [
        {
          "data": {
            "text/plain": [
              "[<h3 class=\"home__blocks-item-title\">Could a new policy institution help solve the UK’s productivity problem?</h3>,\n",
              " <h3 class=\"home__blocks-item-title\">What can the UK learn from the latest global data on pupil performance?</h3>,\n",
              " <h3 class=\"home__blocks-item-title\">What would be the effects of abolishing or reforming inheritance tax?</h3>,\n",
              " <h3 class=\"home__blocks-item-title\">Is work in the UK becoming more insecure?</h3>,\n",
              " <h3 class=\"home__blocks-item-title\">How much revenue might be raised by a one-off wealth tax?</h3>,\n",
              " <h3 class=\"home__blocks-item-title\">Read the latest edition of our magazine here</h3>,\n",
              " <h3 class=\"home__blocks-item-title\">What do we know about labour market power in the UK?</h3>,\n",
              " <h3 class=\"home__blocks-item-title\">How can we reduce gender gaps in mathematics education?</h3>,\n",
              " <h3 class=\"home__blocks-item-title\" style=\"text-align: left;\">Government Investment</h3>,\n",
              " <h3 class=\"home__blocks-item-title\">How are plastics harming marine ecosystems?</h3>,\n",
              " <h3 class=\"home__blocks-item-title\">How might house prices affect workers’ productivity in OECD economies?</h3>,\n",
              " <h3 class=\"home__blocks-item-title\">Youth custody: who ends up there and how does it affect their later lives?</h3>,\n",
              " <h3 class=\"home__blocks-item-title\">What can we learn about patents and innovation from the past?</h3>,\n",
              " <h3 class=\"home__blocks-item-title\">#studentviews: How can EU policy-makers promote green energy generation?</h3>]"
            ]
          },
          "execution_count": 27,
          "metadata": {},
          "output_type": "execute_result"
        }
      ],
      "source": [
        "article_title_elements = soup.find_all(class_=\"home__blocks-item-title\") # Find all elements with the class \"home__blocks-item-title\"\n",
        "article_title_elements"
      ]
    },
    {
      "cell_type": "markdown",
      "metadata": {},
      "source": [
        "We now have a list of HTML tags containing titles but all we care about is the text within them."
      ]
    },
    {
      "cell_type": "code",
      "execution_count": 28,
      "metadata": {},
      "outputs": [
        {
          "data": {
            "text/plain": [
              "['Could a new policy institution help solve the UK’s productivity problem?',\n",
              " 'What can the UK learn from the latest global data on pupil performance?',\n",
              " 'What would be the effects of abolishing or reforming inheritance tax?',\n",
              " 'Is work in the UK becoming more insecure?',\n",
              " 'How much revenue might be raised by a one-off wealth tax?',\n",
              " 'Read the latest edition of our magazine here',\n",
              " 'What do we know about labour market power in the UK?',\n",
              " 'How can we reduce gender gaps in mathematics education?',\n",
              " 'Government Investment',\n",
              " 'How are plastics harming marine ecosystems?',\n",
              " 'How might house prices affect workers’ productivity in OECD economies?',\n",
              " 'Youth custody: who ends up there and how does it affect their later lives?',\n",
              " 'What can we learn about patents and innovation from the past?',\n",
              " '#studentviews: How can EU policy-makers promote green energy generation?']"
            ]
          },
          "execution_count": 28,
          "metadata": {},
          "output_type": "execute_result"
        }
      ],
      "source": [
        "\n",
        "article_titles = [element.text for element in article_title_elements] # Extract the text from each element\n",
        "article_titles"
      ]
    },
    {
      "cell_type": "markdown",
      "metadata": {
        "id": "dRohuhP0xE3U"
      },
      "source": [
        "We also care about the taglines/'teasers' of each article.\n",
        "\n",
        "These are contained in \\<spans\\> and \\<p\\> tags contained in divs with the class \"home__blocks-item-teaser display\""
      ]
    },
    {
      "cell_type": "code",
      "execution_count": 29,
      "metadata": {
        "colab": {
          "base_uri": "https://localhost:8080/"
        },
        "id": "2eyl2tnixE3U",
        "outputId": "aadf9c23-eaa3-4467-a533-9b05c9c4a34e"
      },
      "outputs": [
        {
          "data": {
            "text/plain": [
              "['Comparatively sluggish productivity growth is one of the UK’s biggest policy challenges. Past strategies to solve the problem have lacked commitment and proper evaluation. One solution could be to establish a growth and productivity institution to coordinate policies over the long term.',\n",
              " 'The increase in zero-hour contracts and the emergence of the gig economy over the past decade have raised concerns that working life is becoming less secure. Evidence suggests that while the share of workers experiencing insecure work has not gone up, some groups are more at risk.',\n",
              " 'If the government decides to raise taxes after the pandemic, an alternative to taxes on work or spending could be a one-off wealth tax. A well-designed tax of this kind could raise significant revenue in a fair and efficient way without excessive administrative costs.',\n",
              " 'The ability of powerful firms to set pay and other working conditions is a growing concern for economic researchers and policy-makers. Much of the evidence is from the United States, where labour market institutions and policies are very different. Hence the need for emerging UK-specific analysis.',\n",
              " 'Underperformance by girls and young women in mathematics relative to their male peers is a loss of talent that may hinder productivity growth. New developments in our understanding of how gender stereotypes originate and evolve can help us to reduce gender differences in achievement.',\n",
              " 'The oceans have become a waste-sink for plastics—just like the atmosphere is for greenhouse gas emissions. A higher carbon price may help tackle both problems.',\n",
              " 'Higher house prices may be partly to blame for the sluggish growth of labour productivity in the OECD countries in recent decades. The adverse impact seems to be less severe in more complex economies – those that produce a greater diversity of products based on specialised know-how.',\n",
              " 'The history of industrial revolutions provides valuable insights into how patents and patenting systems influence innovation. It also reveals the extent to which inventors have relied on other ways to protect their ideas, including secrecy, sharing and showcasing them at international exhibitions.',\n",
              " 'The European Commission has mandated that all renewable electricity claims by energy suppliers are verified by certificates called ‘guarantees of origin’. While this supposed transparency has sparked optimism, the reality of the new system remains cryptic – and greenwashing is still possible.']"
            ]
          },
          "execution_count": 29,
          "metadata": {},
          "output_type": "execute_result"
        }
      ],
      "source": [
        "# find all divs with the class \"home__blocks-item-teaser display\"\n",
        "tagline_divs = soup.find_all(class_=\"home__blocks-item-teaser display\")\n",
        "# get all the <p> tags from the tagline_divs\n",
        "taglines = [div.find(\"p\") for div in tagline_divs]\n",
        "# extract the text from each tag\n",
        "tagline_texts = [tagline.text for tagline in taglines]\n",
        "tagline_texts"
      ]
    },
    {
      "cell_type": "markdown",
      "metadata": {
        "id": "_Dvhz5-NG5O0"
      },
      "source": [
        "And where from here?\n",
        "We now have a list of articles, how could this be useful?\n",
        "\n",
        "- **Automated News Roundups**: you could write code to collect news titles each day to produce a daily roundup\n",
        "- **Sentiment Analysis**: If you scale up the data collection, you could perform [sentiment analysis](https://en.wikipedia.org/wiki/Sentiment_analysis) to learn about the emotional valience of news stories.\n",
        "\n",
        "### Making a Chart: Term Frequencies\n",
        "\n",
        "Today, we can make a chart of term frequencies from the headlines. This will tell us about the topics covered by the website.\n",
        "\n",
        "To do this, we will:\n",
        "\n",
        "1. Define a list of common words to avoid (e.g. \"the\", \"how\", \"should\")\n",
        "2. Work out how many times each word appears, excluding the common words\n",
        "3. Save our data"
      ]
    },
    {
      "cell_type": "markdown",
      "metadata": {
        "id": "IqhgvmfTUkbg"
      },
      "source": [
        "#### 1: Make a long list of every word\n",
        "\n",
        "**ADD SCREENSHOT**"
      ]
    },
    {
      "cell_type": "code",
      "execution_count": 30,
      "metadata": {
        "id": "Nfdvh-CEzti3"
      },
      "outputs": [],
      "source": [
        "word_list = [] # Create an empty list to store the words\n",
        "\n",
        "article_titles_and_taglines = article_titles+tagline_texts # Combine the article titles and taglines into one list\n",
        "\n",
        "for text in article_titles_and_taglines: # Loop through each article title and tagline\n",
        "  words_in_text = text.split() # Split the text into words so we can loop through each word\n",
        "  for word in words_in_text: # Loop through each word\n",
        "    lowercase_word = word.lower() # Convert the word to lowercase\n",
        "    word_excl_punc = lowercase_word.replace(\".\", \"\").replace(\",\", \"\").replace(\"?\",\"\") # Remove punctuation\n",
        "    word_list.append(word_excl_punc) # Add the word to the word_list\n",
        "\n"
      ]
    },
    {
      "cell_type": "markdown",
      "metadata": {
        "id": "OQ2bV7Z-0wmW"
      },
      "source": [
        "#### 2: Count how many times each word appears\n",
        "For this we'll use Counters, which take a list and return an object showing how many times each item appears"
      ]
    },
    {
      "cell_type": "code",
      "execution_count": 31,
      "metadata": {
        "colab": {
          "base_uri": "https://localhost:8080/"
        },
        "id": "F9ilrpNN0vtr",
        "outputId": "6d24163b-d091-46e1-c51c-437520015ffd"
      },
      "outputs": [
        {
          "data": {
            "text/plain": [
              "Counter({'could': 4,\n",
              "         'a': 11,\n",
              "         'new': 3,\n",
              "         'policy': 2,\n",
              "         'institution': 2,\n",
              "         'help': 3,\n",
              "         'solve': 2,\n",
              "         'the': 32,\n",
              "         'uk’s': 2,\n",
              "         'productivity': 6,\n",
              "         'problem': 2,\n",
              "         'what': 4,\n",
              "         'can': 5,\n",
              "         'uk': 3,\n",
              "         'learn': 2,\n",
              "         'from': 3,\n",
              "         'latest': 2,\n",
              "         'global': 1,\n",
              "         'data': 1,\n",
              "         'on': 4,\n",
              "         'pupil': 1,\n",
              "         'performance': 1,\n",
              "         'would': 1,\n",
              "         'be': 6,\n",
              "         'effects': 1,\n",
              "         'of': 15,\n",
              "         'abolishing': 1,\n",
              "         'or': 2,\n",
              "         'reforming': 1,\n",
              "         'inheritance': 1,\n",
              "         'tax': 4,\n",
              "         'is': 8,\n",
              "         'work': 3,\n",
              "         'in': 12,\n",
              "         'becoming': 2,\n",
              "         'more': 3,\n",
              "         'insecure': 2,\n",
              "         'how': 8,\n",
              "         'much': 2,\n",
              "         'revenue': 2,\n",
              "         'might': 2,\n",
              "         'raised': 2,\n",
              "         'by': 4,\n",
              "         'one-off': 2,\n",
              "         'wealth': 2,\n",
              "         'read': 1,\n",
              "         'edition': 1,\n",
              "         'our': 2,\n",
              "         'magazine': 1,\n",
              "         'here': 1,\n",
              "         'do': 1,\n",
              "         'we': 3,\n",
              "         'know': 1,\n",
              "         'about': 2,\n",
              "         'labour': 3,\n",
              "         'market': 2,\n",
              "         'power': 1,\n",
              "         'reduce': 2,\n",
              "         'gender': 3,\n",
              "         'gaps': 1,\n",
              "         'mathematics': 2,\n",
              "         'education': 1,\n",
              "         'government': 2,\n",
              "         'investment': 1,\n",
              "         'are': 4,\n",
              "         'plastics': 1,\n",
              "         'harming': 1,\n",
              "         'marine': 1,\n",
              "         'ecosystems': 1,\n",
              "         'house': 2,\n",
              "         'prices': 2,\n",
              "         'affect': 2,\n",
              "         'workers’': 1,\n",
              "         'oecd': 2,\n",
              "         'economies': 2,\n",
              "         'youth': 1,\n",
              "         'custody:': 1,\n",
              "         'who': 1,\n",
              "         'ends': 1,\n",
              "         'up': 2,\n",
              "         'there': 1,\n",
              "         'and': 14,\n",
              "         'does': 1,\n",
              "         'it': 2,\n",
              "         'their': 3,\n",
              "         'later': 1,\n",
              "         'lives': 1,\n",
              "         'patents': 2,\n",
              "         'innovation': 2,\n",
              "         'past': 3,\n",
              "         '#studentviews:': 1,\n",
              "         'eu': 1,\n",
              "         'policy-makers': 2,\n",
              "         'promote': 1,\n",
              "         'green': 1,\n",
              "         'energy': 2,\n",
              "         'generation': 1,\n",
              "         'comparatively': 1,\n",
              "         'sluggish': 2,\n",
              "         'growth': 4,\n",
              "         'one': 2,\n",
              "         'biggest': 1,\n",
              "         'challenges': 1,\n",
              "         'strategies': 1,\n",
              "         'to': 12,\n",
              "         'have': 4,\n",
              "         'lacked': 1,\n",
              "         'commitment': 1,\n",
              "         'proper': 1,\n",
              "         'evaluation': 1,\n",
              "         'solution': 1,\n",
              "         'establish': 1,\n",
              "         'coordinate': 1,\n",
              "         'policies': 2,\n",
              "         'over': 2,\n",
              "         'long': 1,\n",
              "         'term': 1,\n",
              "         'increase': 1,\n",
              "         'zero-hour': 1,\n",
              "         'contracts': 1,\n",
              "         'emergence': 1,\n",
              "         'gig': 1,\n",
              "         'economy': 1,\n",
              "         'decade': 1,\n",
              "         'concerns': 1,\n",
              "         'that': 5,\n",
              "         'working': 2,\n",
              "         'life': 1,\n",
              "         'less': 2,\n",
              "         'secure': 1,\n",
              "         'evidence': 2,\n",
              "         'suggests': 1,\n",
              "         'while': 2,\n",
              "         'share': 1,\n",
              "         'workers': 1,\n",
              "         'experiencing': 1,\n",
              "         'has': 3,\n",
              "         'not': 1,\n",
              "         'gone': 1,\n",
              "         'some': 1,\n",
              "         'groups': 1,\n",
              "         'at': 2,\n",
              "         'risk': 1,\n",
              "         'if': 1,\n",
              "         'decides': 1,\n",
              "         'raise': 2,\n",
              "         'taxes': 2,\n",
              "         'after': 1,\n",
              "         'pandemic': 1,\n",
              "         'an': 1,\n",
              "         'alternative': 1,\n",
              "         'spending': 1,\n",
              "         'well-designed': 1,\n",
              "         'this': 2,\n",
              "         'kind': 1,\n",
              "         'significant': 1,\n",
              "         'fair': 1,\n",
              "         'efficient': 1,\n",
              "         'way': 1,\n",
              "         'without': 1,\n",
              "         'excessive': 1,\n",
              "         'administrative': 1,\n",
              "         'costs': 1,\n",
              "         'ability': 1,\n",
              "         'powerful': 1,\n",
              "         'firms': 1,\n",
              "         'set': 1,\n",
              "         'pay': 1,\n",
              "         'other': 2,\n",
              "         'conditions': 1,\n",
              "         'growing': 1,\n",
              "         'concern': 1,\n",
              "         'for': 5,\n",
              "         'economic': 1,\n",
              "         'researchers': 1,\n",
              "         'united': 1,\n",
              "         'states': 1,\n",
              "         'where': 1,\n",
              "         'institutions': 1,\n",
              "         'very': 1,\n",
              "         'different': 1,\n",
              "         'hence': 1,\n",
              "         'need': 1,\n",
              "         'emerging': 1,\n",
              "         'uk-specific': 1,\n",
              "         'analysis': 1,\n",
              "         'underperformance': 1,\n",
              "         'girls': 1,\n",
              "         'young': 1,\n",
              "         'women': 1,\n",
              "         'relative': 1,\n",
              "         'male': 1,\n",
              "         'peers': 1,\n",
              "         'loss': 1,\n",
              "         'talent': 1,\n",
              "         'may': 3,\n",
              "         'hinder': 1,\n",
              "         'developments': 1,\n",
              "         'understanding': 1,\n",
              "         'stereotypes': 1,\n",
              "         'originate': 1,\n",
              "         'evolve': 1,\n",
              "         'us': 1,\n",
              "         'differences': 1,\n",
              "         'achievement': 1,\n",
              "         'oceans': 1,\n",
              "         'become': 1,\n",
              "         'waste-sink': 1,\n",
              "         'plastics—just': 1,\n",
              "         'like': 1,\n",
              "         'atmosphere': 1,\n",
              "         'greenhouse': 1,\n",
              "         'gas': 1,\n",
              "         'emissions': 1,\n",
              "         'higher': 2,\n",
              "         'carbon': 1,\n",
              "         'price': 1,\n",
              "         'tackle': 1,\n",
              "         'both': 1,\n",
              "         'problems': 1,\n",
              "         'partly': 1,\n",
              "         'blame': 1,\n",
              "         'countries': 1,\n",
              "         'recent': 1,\n",
              "         'decades': 1,\n",
              "         'adverse': 1,\n",
              "         'impact': 1,\n",
              "         'seems': 1,\n",
              "         'severe': 1,\n",
              "         'complex': 1,\n",
              "         '–': 2,\n",
              "         'those': 1,\n",
              "         'produce': 1,\n",
              "         'greater': 1,\n",
              "         'diversity': 1,\n",
              "         'products': 1,\n",
              "         'based': 1,\n",
              "         'specialised': 1,\n",
              "         'know-how': 1,\n",
              "         'history': 1,\n",
              "         'industrial': 1,\n",
              "         'revolutions': 1,\n",
              "         'provides': 1,\n",
              "         'valuable': 1,\n",
              "         'insights': 1,\n",
              "         'into': 1,\n",
              "         'patenting': 1,\n",
              "         'systems': 1,\n",
              "         'influence': 1,\n",
              "         'also': 1,\n",
              "         'reveals': 1,\n",
              "         'extent': 1,\n",
              "         'which': 1,\n",
              "         'inventors': 1,\n",
              "         'relied': 1,\n",
              "         'ways': 1,\n",
              "         'protect': 1,\n",
              "         'ideas': 1,\n",
              "         'including': 1,\n",
              "         'secrecy': 1,\n",
              "         'sharing': 1,\n",
              "         'showcasing': 1,\n",
              "         'them': 1,\n",
              "         'international': 1,\n",
              "         'exhibitions': 1,\n",
              "         'european': 1,\n",
              "         'commission': 1,\n",
              "         'mandated': 1,\n",
              "         'all': 1,\n",
              "         'renewable': 1,\n",
              "         'electricity': 1,\n",
              "         'claims': 1,\n",
              "         'suppliers': 1,\n",
              "         'verified': 1,\n",
              "         'certificates': 1,\n",
              "         'called': 1,\n",
              "         '‘guarantees': 1,\n",
              "         'origin’': 1,\n",
              "         'supposed': 1,\n",
              "         'transparency': 1,\n",
              "         'sparked': 1,\n",
              "         'optimism': 1,\n",
              "         'reality': 1,\n",
              "         'system': 1,\n",
              "         'remains': 1,\n",
              "         'cryptic': 1,\n",
              "         'greenwashing': 1,\n",
              "         'still': 1,\n",
              "         'possible': 1})"
            ]
          },
          "execution_count": 31,
          "metadata": {},
          "output_type": "execute_result"
        }
      ],
      "source": [
        "word_counter = Counter(word_list)\n",
        "\n",
        "word_counter"
      ]
    },
    {
      "cell_type": "markdown",
      "metadata": {
        "id": "sDzEnkQR2NvH"
      },
      "source": [
        "#### 3: Making a table\n",
        "\n",
        "We now have a counter showing word frequencies. Using **Pandas**, we can turn this into a more useful table."
      ]
    },
    {
      "cell_type": "code",
      "execution_count": 32,
      "metadata": {
        "id": "0m3JOUy_2a-A"
      },
      "outputs": [
        {
          "data": {
            "text/html": [
              "<div>\n",
              "<style scoped>\n",
              "    .dataframe tbody tr th:only-of-type {\n",
              "        vertical-align: middle;\n",
              "    }\n",
              "\n",
              "    .dataframe tbody tr th {\n",
              "        vertical-align: top;\n",
              "    }\n",
              "\n",
              "    .dataframe thead th {\n",
              "        text-align: right;\n",
              "    }\n",
              "</style>\n",
              "<table border=\"1\" class=\"dataframe\">\n",
              "  <thead>\n",
              "    <tr style=\"text-align: right;\">\n",
              "      <th></th>\n",
              "      <th>word</th>\n",
              "      <th>count</th>\n",
              "    </tr>\n",
              "  </thead>\n",
              "  <tbody>\n",
              "    <tr>\n",
              "      <th>7</th>\n",
              "      <td>the</td>\n",
              "      <td>32</td>\n",
              "    </tr>\n",
              "    <tr>\n",
              "      <th>25</th>\n",
              "      <td>of</td>\n",
              "      <td>15</td>\n",
              "    </tr>\n",
              "    <tr>\n",
              "      <th>81</th>\n",
              "      <td>and</td>\n",
              "      <td>14</td>\n",
              "    </tr>\n",
              "    <tr>\n",
              "      <th>104</th>\n",
              "      <td>to</td>\n",
              "      <td>12</td>\n",
              "    </tr>\n",
              "    <tr>\n",
              "      <th>33</th>\n",
              "      <td>in</td>\n",
              "      <td>12</td>\n",
              "    </tr>\n",
              "    <tr>\n",
              "      <th>...</th>\n",
              "      <td>...</td>\n",
              "      <td>...</td>\n",
              "    </tr>\n",
              "    <tr>\n",
              "      <th>148</th>\n",
              "      <td>pandemic</td>\n",
              "      <td>1</td>\n",
              "    </tr>\n",
              "    <tr>\n",
              "      <th>149</th>\n",
              "      <td>an</td>\n",
              "      <td>1</td>\n",
              "    </tr>\n",
              "    <tr>\n",
              "      <th>150</th>\n",
              "      <td>alternative</td>\n",
              "      <td>1</td>\n",
              "    </tr>\n",
              "    <tr>\n",
              "      <th>151</th>\n",
              "      <td>spending</td>\n",
              "      <td>1</td>\n",
              "    </tr>\n",
              "    <tr>\n",
              "      <th>288</th>\n",
              "      <td>possible</td>\n",
              "      <td>1</td>\n",
              "    </tr>\n",
              "  </tbody>\n",
              "</table>\n",
              "<p>289 rows × 2 columns</p>\n",
              "</div>"
            ],
            "text/plain": [
              "            word  count\n",
              "7            the     32\n",
              "25            of     15\n",
              "81           and     14\n",
              "104           to     12\n",
              "33            in     12\n",
              "..           ...    ...\n",
              "148     pandemic      1\n",
              "149           an      1\n",
              "150  alternative      1\n",
              "151     spending      1\n",
              "288     possible      1\n",
              "\n",
              "[289 rows x 2 columns]"
            ]
          },
          "execution_count": 32,
          "metadata": {},
          "output_type": "execute_result"
        }
      ],
      "source": [
        "df = pd.DataFrame(word_counter.items(), columns=[\"word\", \"count\"])\n",
        "\n",
        "sorted_df = df.sort_values(by=\"count\", ascending=False)\n",
        "\n",
        "sorted_df"
      ]
    },
    {
      "cell_type": "markdown",
      "metadata": {
        "id": "hS5i_rR_1iiL"
      },
      "source": [
        "#### 4: Filter out Common words\n",
        "\n",
        "The most common words in our word_counter are common words: \"the\", \"to\", \"a\", etc.\n",
        "\n",
        "We should filter these out so we can learn more about the articles.\n",
        "\n",
        "Thankfully, lots of lists of common words exist already. We'll download a common word list and only keep the word that do not appear in it."
      ]
    },
    {
      "cell_type": "code",
      "execution_count": 19,
      "metadata": {},
      "outputs": [
        {
          "data": {
            "text/html": [
              "<div>\n",
              "<style scoped>\n",
              "    .dataframe tbody tr th:only-of-type {\n",
              "        vertical-align: middle;\n",
              "    }\n",
              "\n",
              "    .dataframe tbody tr th {\n",
              "        vertical-align: top;\n",
              "    }\n",
              "\n",
              "    .dataframe thead th {\n",
              "        text-align: right;\n",
              "    }\n",
              "</style>\n",
              "<table border=\"1\" class=\"dataframe\">\n",
              "  <thead>\n",
              "    <tr style=\"text-align: right;\">\n",
              "      <th></th>\n",
              "      <th>word</th>\n",
              "      <th>count</th>\n",
              "    </tr>\n",
              "  </thead>\n",
              "  <tbody>\n",
              "    <tr>\n",
              "      <th>9</th>\n",
              "      <td>productivity</td>\n",
              "      <td>6</td>\n",
              "    </tr>\n",
              "    <tr>\n",
              "      <th>99</th>\n",
              "      <td>growth</td>\n",
              "      <td>4</td>\n",
              "    </tr>\n",
              "    <tr>\n",
              "      <th>30</th>\n",
              "      <td>tax</td>\n",
              "      <td>4</td>\n",
              "    </tr>\n",
              "    <tr>\n",
              "      <th>58</th>\n",
              "      <td>gender</td>\n",
              "      <td>3</td>\n",
              "    </tr>\n",
              "    <tr>\n",
              "      <th>13</th>\n",
              "      <td>uk</td>\n",
              "      <td>3</td>\n",
              "    </tr>\n",
              "    <tr>\n",
              "      <th>...</th>\n",
              "      <td>...</td>\n",
              "      <td>...</td>\n",
              "    </tr>\n",
              "    <tr>\n",
              "      <th>140</th>\n",
              "      <td>groups</td>\n",
              "      <td>1</td>\n",
              "    </tr>\n",
              "    <tr>\n",
              "      <th>142</th>\n",
              "      <td>risk</td>\n",
              "      <td>1</td>\n",
              "    </tr>\n",
              "    <tr>\n",
              "      <th>148</th>\n",
              "      <td>pandemic</td>\n",
              "      <td>1</td>\n",
              "    </tr>\n",
              "    <tr>\n",
              "      <th>150</th>\n",
              "      <td>alternative</td>\n",
              "      <td>1</td>\n",
              "    </tr>\n",
              "    <tr>\n",
              "      <th>151</th>\n",
              "      <td>spending</td>\n",
              "      <td>1</td>\n",
              "    </tr>\n",
              "  </tbody>\n",
              "</table>\n",
              "<p>213 rows × 2 columns</p>\n",
              "</div>"
            ],
            "text/plain": [
              "             word  count\n",
              "9    productivity      6\n",
              "99         growth      4\n",
              "30            tax      4\n",
              "58         gender      3\n",
              "13             uk      3\n",
              "..            ...    ...\n",
              "140        groups      1\n",
              "142          risk      1\n",
              "148      pandemic      1\n",
              "150   alternative      1\n",
              "151      spending      1\n",
              "\n",
              "[213 rows x 2 columns]"
            ]
          },
          "execution_count": 19,
          "metadata": {},
          "output_type": "execute_result"
        }
      ],
      "source": [
        "common_words = requests.get(\"https://raw.githubusercontent.com/6/stopwords-json/master/dist/en.json\").json()\n",
        "\n",
        "df_excl_common = sorted_df.query(\"word not in @common_words\")\n",
        "\n",
        "df_excl_common"
      ]
    },
    {
      "cell_type": "markdown",
      "metadata": {},
      "source": [
        "#### Saving Our Data\n",
        "\n",
        "We now have a table of how often words appear in Economics Observatory headlines and taglines.\n",
        "Let's keep the words that appear more than twice and save the table."
      ]
    },
    {
      "cell_type": "code",
      "execution_count": 33,
      "metadata": {},
      "outputs": [
        {
          "data": {
            "text/html": [
              "<div>\n",
              "<style scoped>\n",
              "    .dataframe tbody tr th:only-of-type {\n",
              "        vertical-align: middle;\n",
              "    }\n",
              "\n",
              "    .dataframe tbody tr th {\n",
              "        vertical-align: top;\n",
              "    }\n",
              "\n",
              "    .dataframe thead th {\n",
              "        text-align: right;\n",
              "    }\n",
              "</style>\n",
              "<table border=\"1\" class=\"dataframe\">\n",
              "  <thead>\n",
              "    <tr style=\"text-align: right;\">\n",
              "      <th></th>\n",
              "      <th>word</th>\n",
              "      <th>count</th>\n",
              "    </tr>\n",
              "  </thead>\n",
              "  <tbody>\n",
              "    <tr>\n",
              "      <th>9</th>\n",
              "      <td>productivity</td>\n",
              "      <td>6</td>\n",
              "    </tr>\n",
              "    <tr>\n",
              "      <th>99</th>\n",
              "      <td>growth</td>\n",
              "      <td>4</td>\n",
              "    </tr>\n",
              "    <tr>\n",
              "      <th>30</th>\n",
              "      <td>tax</td>\n",
              "      <td>4</td>\n",
              "    </tr>\n",
              "    <tr>\n",
              "      <th>58</th>\n",
              "      <td>gender</td>\n",
              "      <td>3</td>\n",
              "    </tr>\n",
              "    <tr>\n",
              "      <th>13</th>\n",
              "      <td>uk</td>\n",
              "      <td>3</td>\n",
              "    </tr>\n",
              "    <tr>\n",
              "      <th>32</th>\n",
              "      <td>work</td>\n",
              "      <td>3</td>\n",
              "    </tr>\n",
              "    <tr>\n",
              "      <th>89</th>\n",
              "      <td>past</td>\n",
              "      <td>3</td>\n",
              "    </tr>\n",
              "    <tr>\n",
              "      <th>54</th>\n",
              "      <td>labour</td>\n",
              "      <td>3</td>\n",
              "    </tr>\n",
              "  </tbody>\n",
              "</table>\n",
              "</div>"
            ],
            "text/plain": [
              "            word  count\n",
              "9   productivity      6\n",
              "99        growth      4\n",
              "30           tax      4\n",
              "58        gender      3\n",
              "13            uk      3\n",
              "32          work      3\n",
              "89          past      3\n",
              "54        labour      3"
            ]
          },
          "execution_count": 33,
          "metadata": {},
          "output_type": "execute_result"
        }
      ],
      "source": [
        "more_than_twice_df = df_excl_common.query(\"count >2\")\n",
        "more_than_twice_df.to_csv(\"eco_words.csv\", index=False)\n",
        "\n",
        "more_than_twice_df"
      ]
    }
  ],
  "metadata": {
    "colab": {
      "provenance": [],
      "toc_visible": true
    },
    "kernelspec": {
      "display_name": "base",
      "language": "python",
      "name": "python3"
    },
    "language_info": {
      "codemirror_mode": {
        "name": "ipython",
        "version": 3
      },
      "file_extension": ".py",
      "mimetype": "text/x-python",
      "name": "python",
      "nbconvert_exporter": "python",
      "pygments_lexer": "ipython3",
      "version": "3.11.4"
    }
  },
  "nbformat": 4,
  "nbformat_minor": 0
}
