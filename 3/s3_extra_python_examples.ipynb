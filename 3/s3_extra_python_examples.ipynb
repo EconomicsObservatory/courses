{
 "cells": [
  {
   "cell_type": "markdown",
   "metadata": {},
   "source": [
    "[![Binder](http://mybinder.org/badge_logo.svg)](https://mybinder.org/v2/gh/EconomicsObservatory/courses/HEAD?labpath=3%2Fs3_extra_python_examples.ipynb)\n",
    "\n",
    "<a href=\"https://colab.research.google.com/github/EconomicsObservatory/courses/blob/main/3/s3_extra_python_examples.ipynb\" target=\"_blank\"><img src=\"https://colab.research.google.com/assets/colab-badge.svg\" alt=\"Open In Colab\"/></a>"
   ]
  },
  {
   "cell_type": "markdown",
   "metadata": {},
   "source": [
    "**Richard Davies** - Data Science Masterclass 2024"
   ]
  },
  {
   "cell_type": "markdown",
   "metadata": {},
   "source": [
    "In this notebook, we will explore some Python basics, with more examples of conditionals, loops and other techniques that will help kickstart the journey to using Python for Data Science."
   ]
  },
  {
   "cell_type": "markdown",
   "metadata": {},
   "source": [
    "<br>\n",
    "<br>\n",
    "\n",
    "## 1. Python basics"
   ]
  },
  {
   "cell_type": "markdown",
   "metadata": {},
   "source": [
    "### 1.1 Assigning and viewing variables\n",
    "In Python, we can declare a variable and assign it a value using the assignment operator =.\n",
    "\n",
    "Variables are like containers that store data values. They allow us to label data with a descriptive name, so our code is easier to read and understand. In Python, we declare a variable and assign it a value like this:"
   ]
  },
  {
   "cell_type": "code",
   "execution_count": 2,
   "metadata": {},
   "outputs": [],
   "source": [
    "x = 10        # Assign variable x the integer value 10\n",
    "y = x + 5     # Assign variable y the value of x + 5\n",
    "z = \"dog\"     # Assign variable z the string value \"dog\""
   ]
  },
  {
   "cell_type": "markdown",
   "metadata": {},
   "source": [
    "**Tip**: In Python, we can add comments to the code using `#`. Any text after the hashtag is ignored when running the code, so we can use them to add helpful notes."
   ]
  },
  {
   "cell_type": "markdown",
   "metadata": {},
   "source": [
    "<br>\n",
    "<br>\n",
    "\n",
    "### 1.2 Understanding Data Types\n",
    "\n",
    "In Python, data types are crucial as they define the operations possible on the values and how they can be stored. Here are some of the basic data types you'll frequently encounter:\n",
    "\n",
    "- **Integers** (`int`): Whole numbers, positive or negative, without decimals. Useful for counting or indexing. For example, age = 25.\n",
    "\n",
    "- **Floating Point Numbers** (`float`): Numbers with a decimal point. Perfect for measurements or any calculations requiring precision. For example, inflation = 1.3\n",
    "\n",
    "- **Strings** (`str`): A sequence of characters, enclosed in single (' ') or double (\" \") quotes. Strings are how text is represented. For example, name = \"John Doe\".\n",
    "\n",
    "- **Lists** (`list`): An ordered collection of items, which can be of mixed data types. Lists are versatile and can be modified (mutable). These are written as a list with comma separated values (items) between square brackets. For example, fruits = [\"apple\", \"banana\", \"cherry\"].\n",
    "\n",
    "- **Dictionaries** (`dict`): A collection of key-value pairs. Each key-value pair maps the key to its associated value, making dictionaries perfect for storing data in a structured way, similar to JSON objects from APIs. For example, person = {\"name\": \"John\", \"age\": 25}. When we interact with JSON objects within Python, these are of dictionary type.\n",
    "\n",
    "**Hint**: Find out more about Python data types [here](https://www.w3schools.com/python/python_datatypes.asp)\n",
    "\n",
    "Understanding these types is essential because they determine what kind of operations you can perform on the data. For instance, you can add two integers or concatenate strings but trying to mix types without conversion (like adding a string to an integer) will lead to errors."
   ]
  },
  {
   "cell_type": "code",
   "execution_count": 3,
   "metadata": {},
   "outputs": [
    {
     "name": "stdout",
     "output_type": "stream",
     "text": [
      "Age: 25\n",
      "Temperature: 98.6\n",
      "Name: John Doe\n",
      "Locations: ['Darlington', 'London', 'Newport']\n",
      "Person: {'name': 'John', 'age': 25}\n"
     ]
    }
   ],
   "source": [
    "# Integer example\n",
    "age = 25\n",
    "print(\"Age:\", age)\n",
    "\n",
    "# Floating point number example\n",
    "temperature = 98.6\n",
    "print(\"Temperature:\", temperature)\n",
    "\n",
    "# String example\n",
    "name = \"John Doe\"\n",
    "print(\"Name:\", name)\n",
    "\n",
    "# List example\n",
    "locations = [\"Darlington\", \"London\", \"Newport\"]\n",
    "print(\"Locations:\", locations)\n",
    "\n",
    "# Dictionary example\n",
    "person = {\"name\": \"John\", \"age\": 25}\n",
    "print(\"Person:\", person)"
   ]
  },
  {
   "cell_type": "markdown",
   "metadata": {},
   "source": [
    "<br>\n",
    "<br>\n",
    "\n",
    "### 1.3 Lists\n",
    "\n",
    "Lists are the most versatile datatype in Python, allowing you to store a collection of items in a single variable. They can contain items of different types, but typically all items in a list are of the same type. Let's explore how to interact with lists by editing and viewing their items, using a list of locations in Wales as our example."
   ]
  },
  {
   "cell_type": "code",
   "execution_count": 4,
   "metadata": {},
   "outputs": [
    {
     "name": "stdout",
     "output_type": "stream",
     "text": [
      "Original locations: ['Swansea', 'Cardiff', 'Newport']\n"
     ]
    }
   ],
   "source": [
    "# Creating a list of locations\n",
    "locations = [\"Swansea\", \"Cardiff\", \"Newport\"]\n",
    "print(\"Original locations:\", locations)"
   ]
  },
  {
   "cell_type": "markdown",
   "metadata": {},
   "source": [
    "<br>\n",
    "\n",
    "**Accessing List Items by Index**\n",
    "\n",
    "Each item in a list is assigned an index based on its position, starting with 0. This means the first item has an index of 0, the second an index of 1, and so on. Here's how you can access an item by its index:"
   ]
  },
  {
   "cell_type": "code",
   "execution_count": 5,
   "metadata": {},
   "outputs": [
    {
     "name": "stdout",
     "output_type": "stream",
     "text": [
      "The third location is: Newport\n"
     ]
    }
   ],
   "source": [
    "# Accessing the third item in the list\n",
    "third_location = locations[2]  # indexing starts at 0!\n",
    "print(\"The third location is:\", third_location)"
   ]
  },
  {
   "cell_type": "markdown",
   "metadata": {},
   "source": [
    "**Note**: The rule to remember is that indexing starts at 0. So, the list above has positions 0, 1, and 2. Asking for position 3—which would seem to be Newport—will throw an error because it is actually at index 2."
   ]
  },
  {
   "cell_type": "markdown",
   "metadata": {},
   "source": [
    "<br>\n",
    "\n",
    "**Modifying List Items**\n",
    "\n",
    "You can change the value of a list item by accessing it through its index:"
   ]
  },
  {
   "cell_type": "code",
   "execution_count": 6,
   "metadata": {},
   "outputs": [
    {
     "name": "stdout",
     "output_type": "stream",
     "text": [
      "Updated locations: ['Swansea', 'Bridgend', 'Newport']\n"
     ]
    }
   ],
   "source": [
    "# Changing the second location\n",
    "locations[1] = \"Bridgend\"\n",
    "print(\"Updated locations:\", locations)"
   ]
  },
  {
   "cell_type": "markdown",
   "metadata": {},
   "source": [
    "<br>\n",
    "\n",
    "**Adding and Removing Items**\n",
    "\n",
    "Items can be added to the end of a list using the **`.append()`** method, and removed using the **`.remove()`** method:"
   ]
  },
  {
   "cell_type": "code",
   "execution_count": 7,
   "metadata": {},
   "outputs": [
    {
     "name": "stdout",
     "output_type": "stream",
     "text": [
      "Locations with Aberystwyth: ['Swansea', 'Bridgend', 'Newport', 'Aberystwyth']\n",
      "Locations after removing Swansea: ['Bridgend', 'Newport', 'Aberystwyth']\n"
     ]
    }
   ],
   "source": [
    "# Adding a new location\n",
    "locations.append(\"Aberystwyth\")\n",
    "print(\"Locations with Aberystwyth:\", locations)\n",
    "\n",
    "# Removing a location\n",
    "locations.remove(\"Swansea\")\n",
    "print(\"Locations after removing Swansea:\", locations)"
   ]
  },
  {
   "cell_type": "markdown",
   "metadata": {},
   "source": [
    "#### <font color='Green'><strong>Exercise: </strong></font> "
   ]
  },
  {
   "cell_type": "markdown",
   "metadata": {},
   "source": [
    "**EX 1** Try adding your a city name to the `locations` list and then remove \"Newport\". Print the list before and after to check the result."
   ]
  },
  {
   "cell_type": "code",
   "execution_count": 6,
   "metadata": {},
   "outputs": [],
   "source": [
    "### 1. Add Solution Here ###\n"
   ]
  },
  {
   "cell_type": "markdown",
   "metadata": {},
   "source": [
    "<br>\n",
    "<br>\n",
    "\n",
    "### 1.4 Loops\n",
    "\n",
    "Any time we encounter repetitive code—like printing several locations—it's a signal that we might use a loop to make our code more efficient and less prone to errors. Loops are fundamental in programming, allowing you to execute a set of statements repeatedly with less code, improving accuracy and efficiency.\n",
    "\n",
    "**For Loop with Lists**\n",
    "\n",
    "The **`for`** loop is used to iterate over the items of a list, executing a block of code once for each item."
   ]
  },
  {
   "cell_type": "code",
   "execution_count": 1,
   "metadata": {},
   "outputs": [
    {
     "name": "stdout",
     "output_type": "stream",
     "text": [
      "Darlington\n",
      "London\n",
      "Newport\n"
     ]
    }
   ],
   "source": [
    "# Our list of locations\n",
    "locations = [\"Darlington\", \"London\", \"Newport\"]\n",
    "\n",
    "# Using a for loop to print each location\n",
    "for location in locations:\n",
    "    print(location)"
   ]
  },
  {
   "cell_type": "markdown",
   "metadata": {},
   "source": [
    "**Note**: It's common to use singular and plural names in for loops (e.g., for fruit in fruits), where fruits is a list of fruit names. The specific names used are not important; what matters is their role in the loop. The identifier after for (e.g., location) represents the current item from the list being iterated over."
   ]
  },
  {
   "cell_type": "code",
   "execution_count": 2,
   "metadata": {},
   "outputs": [
    {
     "name": "stdout",
     "output_type": "stream",
     "text": [
      "Darlington\n",
      "Newport\n",
      "London\n"
     ]
    }
   ],
   "source": [
    "# Another example with different variable names but identical functionality\n",
    "placeList = [\"Darlington\", \"Newport\", \"London\"]\n",
    "for place in placeList:\n",
    "    print(place)"
   ]
  },
  {
   "cell_type": "markdown",
   "metadata": {},
   "source": [
    "The names are different, but the output is the same because both loops iterate over a list and print each item."
   ]
  },
  {
   "cell_type": "markdown",
   "metadata": {},
   "source": [
    "<br>\n",
    "\n",
    "**Looping Over a Range of Numbers**\n",
    "\n",
    "In addition to lists, you can loop over a sequence of numbers using the **`range()`** function. This is useful for repeating an action a specific number of times."
   ]
  },
  {
   "cell_type": "code",
   "execution_count": 8,
   "metadata": {},
   "outputs": [
    {
     "name": "stdout",
     "output_type": "stream",
     "text": [
      "Number: 0\n",
      "Number: 1\n",
      "Number: 2\n"
     ]
    }
   ],
   "source": [
    "# Looping over a range of numbers\n",
    "for i in range(3):  # Will iterate over 0, 1, 2\n",
    "    print(\"Number:\", i)"
   ]
  },
  {
   "cell_type": "markdown",
   "metadata": {},
   "source": [
    "**Note**: `range()` function is zero based, so like when using the index to access list items, we start from 0. "
   ]
  },
  {
   "cell_type": "markdown",
   "metadata": {},
   "source": [
    "<br>\n",
    "\n",
    "**Advanced Usage of the range() Function**\n",
    "\n",
    "The **`range()`** function is versatile and can be tailored for more complex looping scenarios, such as starting from a non-zero value or incrementing by steps greater than one.\n",
    "\n",
    "**Starting from a Non-Zero Value**\n",
    "\n",
    "By default, **`range()`** starts at 0. However, you can specify a starting value by providing two arguments: the start and stop values."
   ]
  },
  {
   "cell_type": "code",
   "execution_count": 9,
   "metadata": {},
   "outputs": [
    {
     "name": "stdout",
     "output_type": "stream",
     "text": [
      "1\n",
      "2\n",
      "3\n",
      "4\n",
      "5\n"
     ]
    }
   ],
   "source": [
    "# Looping from 1 to 5\n",
    "for i in range(1, 6):  # Starts at 1, stops before 6\n",
    "    print(i)"
   ]
  },
  {
   "cell_type": "markdown",
   "metadata": {},
   "source": [
    "This loop prints numbers from 1 to 5. The range(1, 6) call generates numbers starting at 1 and ending just before 6. This is because the stop value is non-inclusive."
   ]
  },
  {
   "cell_type": "markdown",
   "metadata": {},
   "source": [
    "<br>\n",
    "\n",
    "**Using a Step Value**\n",
    "\n",
    "You can also specify a step value as the third argument to **`range()`**, which determines the increment between each number in the sequence."
   ]
  },
  {
   "cell_type": "code",
   "execution_count": 10,
   "metadata": {},
   "outputs": [
    {
     "name": "stdout",
     "output_type": "stream",
     "text": [
      "0\n",
      "2\n",
      "4\n",
      "6\n",
      "8\n"
     ]
    }
   ],
   "source": [
    "# Counting by twos\n",
    "for i in range(0, 10, 2):  # From 0 to 10, stepping by 2\n",
    "    print(i)"
   ]
  },
  {
   "cell_type": "markdown",
   "metadata": {},
   "source": [
    "This loop prints even numbers between 0 and 8. The step value of 2 means that it will skip every other number, starting from 0 and stopping before reaching 10."
   ]
  },
  {
   "cell_type": "markdown",
   "metadata": {},
   "source": [
    "<br>\n",
    "\n",
    "**Looping Over Strings**\n",
    "\n",
    "Loops can also iterate over each character in a string, allowing you to perform actions on or with each character."
   ]
  },
  {
   "cell_type": "code",
   "execution_count": 4,
   "metadata": {},
   "outputs": [
    {
     "name": "stdout",
     "output_type": "stream",
     "text": [
      "N\n",
      "e\n",
      "w\n",
      "p\n",
      "o\n",
      "r\n",
      "t\n"
     ]
    }
   ],
   "source": [
    "# Looping over each character in a string\n",
    "for char in \"Newport\":\n",
    "    print(char)"
   ]
  },
  {
   "cell_type": "markdown",
   "metadata": {},
   "source": [
    "#### <font color='Green'><strong>Exercises: </strong></font> \n",
    "\n",
    "These examples and exercises introduce you to the power and flexibility of loops in Python, demonstrating how they can be used to iterate over lists, numbers, and strings to perform repetitive tasks efficiently.\n",
    "\n",
    "**EX 2.1** Create a loop that prints each character of your name."
   ]
  },
  {
   "cell_type": "code",
   "execution_count": 5,
   "metadata": {},
   "outputs": [],
   "source": [
    "### 2.1 Add Solution Here ###\n"
   ]
  },
  {
   "cell_type": "markdown",
   "metadata": {},
   "source": [
    "**EX 2.2** Use a **`for`** loop and the **`range()`** function to print the numbers 1 through 5."
   ]
  },
  {
   "cell_type": "code",
   "execution_count": 7,
   "metadata": {},
   "outputs": [],
   "source": [
    "### 2.2 Add Solution Here ###\n"
   ]
  },
  {
   "cell_type": "markdown",
   "metadata": {},
   "source": [
    "<font color='Green'><strong>Bonus Exercise: </strong></font> \n",
    "\n",
    "**EX 2.3** Write a loop using range() to print all odd numbers from 1 to 10."
   ]
  },
  {
   "cell_type": "code",
   "execution_count": 11,
   "metadata": {},
   "outputs": [],
   "source": [
    "### 2.3 Add Solution Here ###"
   ]
  },
  {
   "cell_type": "markdown",
   "metadata": {},
   "source": [
    "<br>\n",
    "<br>\n",
    "\n",
    "### 1.5 Conditionals\n",
    "\n",
    "Conditionals in Python allow you to execute different blocks of code based on certain conditions. These conditions are expressed using logical comparisons, including:\n",
    "- equals (==)\n",
    "- not equals (!=)\n",
    "- greater than (>)\n",
    "- less than (<)\n",
    "- greater than or equal to (>=)\n",
    "- less than or equal to (<=).\n",
    "\n",
    "The boolean values True and False are returned when an expression is compared or evaluated. \n",
    "\n",
    "We can make these comparisons using \"if statements\". These are written using the `if` keyword. **Hint**: we can use the \n",
    "An \"if statement\" is written by using the if keyword. The \"and\" and \"or\" boolean operators allow building complex boolean expressions, for example:\n",
    "For example: "
   ]
  },
  {
   "cell_type": "code",
   "execution_count": null,
   "metadata": {},
   "outputs": [],
   "source": []
  }
 ],
 "metadata": {
  "kernelspec": {
   "display_name": "datasci",
   "language": "python",
   "name": "python3"
  },
  "language_info": {
   "codemirror_mode": {
    "name": "ipython",
    "version": 3
   },
   "file_extension": ".py",
   "mimetype": "text/x-python",
   "name": "python",
   "nbconvert_exporter": "python",
   "pygments_lexer": "ipython3",
   "version": "3.11.6"
  }
 },
 "nbformat": 4,
 "nbformat_minor": 2
}
