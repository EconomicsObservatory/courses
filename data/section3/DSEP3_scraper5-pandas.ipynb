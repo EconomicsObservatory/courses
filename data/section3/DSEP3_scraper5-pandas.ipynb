{
  "cells": [
    {
      "attachments": {},
      "cell_type": "markdown",
      "metadata": {
        "id": "MVfixlVBK5we"
      },
      "source": [
        "**Data Science - web scraper 4**\n",
        "\n",
        "Aim of the file:\n",
        "\n",
        "1.   Take results and turn them into a dataframe.\n",
        "2.   Save this as a CSV."
      ]
    },
    {
      "cell_type": "code",
      "execution_count": null,
      "metadata": {
        "id": "r-JSinApK49d"
      },
      "outputs": [],
      "source": [
        "# // 1.  Import packages that we need:\n",
        "import numpy as np\n",
        "import pandas as pd\n",
        "# // Web scraping: \n",
        "import requests\n",
        "import string\n",
        "from bs4 import BeautifulSoup\n",
        "# // OS. Sometimes need this for finding working directory:\n",
        "import os\n",
        "# ////////////////////////////////////////////////////////////////"
      ]
    },
    {
      "attachments": {},
      "cell_type": "markdown",
      "metadata": {
        "id": "YH5WjG6IPVr7"
      },
      "source": [
        "Here is our code so far:"
      ]
    },
    {
      "cell_type": "code",
      "execution_count": null,
      "metadata": {
        "id": "YVCVVxY3SMqu"
      },
      "outputs": [],
      "source": [
        "# // Set the base url:\n",
        "url_base = \"https://www.google.com/finance/quote/{}:LON\"\n",
        "\n",
        "# // Pick the letters that we want to inject into this url:\n",
        "tickers = ['LLOY', 'NWG', 'BARC', 'HSBA', 'STAN', 'VMUK']\n",
        "\n",
        "# // Create an empty array that is going to house the results\n",
        "# // We need to tell Python this array needs to be able to hold objects, hence dtype=object.\n",
        "# // This is becuase we are not going to put just one number, or one piece of string into position in the array\n",
        "# // Rather, each part of this array is going to be an array with the individual scrpaing results:\n",
        "data = np.empty(length, dtype='object')\n",
        "\n",
        "# // Begin a loop, dealing with this tickers one by one:\n",
        "for t in tickers:\n",
        "   \n",
        "   # // Return the index number of the thing we are working with:\n",
        "   s = tickers.index(t)\n",
        "   \n",
        "   # // Build the URL for this iteration of the loop:\n",
        "   URL = url_base.format(t)\n",
        "   \n",
        "   # // Request the html from the URL:\n",
        "   html = requests.get(URL)\n",
        "   \n",
        "   # // Get the soup of this page\n",
        "   soup = BeautifulSoup(html.content, 'html.parser')\n",
        "   \n",
        "   # // Now get what we want from the page: \n",
        "   name = soup.find_all(\"h1\")\n",
        "   price = soup.find_all(\"div\", class_=\"YMlKec fxKbKc\")\n",
        "   ticker = soup.find_all(\"div\", class_=\"COaKTb OTVmSe\")\n",
        "   change = soup.find_all(\"div\", class_=\"JwB6zf\")\n",
        "   \n",
        "   name = name[0].text\n",
        "   price = price[0].text\n",
        "   change = change[0].text\n",
        "   \n",
        "   # // Group together:\n",
        "   results = [t, name, price, change]\n",
        "   \n",
        "   # // Sense check: print out what we have on this point in the loop:\n",
        "   s\n",
        "   t\n",
        "   results\n",
        "\n",
        "   # // Find the index value of this particular ticker.\n",
        "   i = tickers.index(t)\n",
        "   \n",
        "   # // Fill these results in to a master array of results:\n",
        "   # // Fill the empty url, at the given index value, with the full url for this ticker\n",
        "   data[i] = results   "
      ]
    },
    {
      "attachments": {},
      "cell_type": "markdown",
      "metadata": {
        "id": "EN062yXchCov"
      },
      "source": [
        "Now turn this into a pandas dataframe:\n"
      ]
    },
    {
      "cell_type": "code",
      "execution_count": 18,
      "metadata": {
        "colab": {
          "base_uri": "https://localhost:8080/",
          "height": 235
        },
        "id": "-wtsQxpthGrg",
        "outputId": "71a310be-9062-4fcc-81c0-d2e50cbee190"
      },
      "outputs": [
        {
          "data": {
            "text/html": [
              "<div>\n",
              "<style scoped>\n",
              "    .dataframe tbody tr th:only-of-type {\n",
              "        vertical-align: middle;\n",
              "    }\n",
              "\n",
              "    .dataframe tbody tr th {\n",
              "        vertical-align: top;\n",
              "    }\n",
              "\n",
              "    .dataframe thead th {\n",
              "        text-align: right;\n",
              "    }\n",
              "</style>\n",
              "<table border=\"1\" class=\"dataframe\">\n",
              "  <thead>\n",
              "    <tr style=\"text-align: right;\">\n",
              "      <th></th>\n",
              "      <th>0</th>\n",
              "    </tr>\n",
              "  </thead>\n",
              "  <tbody>\n",
              "    <tr>\n",
              "      <th>0</th>\n",
              "      <td>[LLOY, Lloyds Banking Group PLC, GBX 46.24, 0....</td>\n",
              "    </tr>\n",
              "    <tr>\n",
              "      <th>1</th>\n",
              "      <td>[NWG, Natwest Group PLC, GBX 213.00, 0.00%]</td>\n",
              "    </tr>\n",
              "    <tr>\n",
              "      <th>2</th>\n",
              "      <td>[BARC, Barclays PLC, GBX 181.40, 0.00%]</td>\n",
              "    </tr>\n",
              "    <tr>\n",
              "      <th>3</th>\n",
              "      <td>[HSBA, HSBC Holdings plc, GBX 403.95, 0.00%]</td>\n",
              "    </tr>\n",
              "    <tr>\n",
              "      <th>4</th>\n",
              "      <td>[STAN, Standard Chartered PLC, GBX 454.20, 0.00%]</td>\n",
              "    </tr>\n",
              "    <tr>\n",
              "      <th>5</th>\n",
              "      <td>[VMUK, Virgin Money UK PLC, GBX 200.70, 0.00%]</td>\n",
              "    </tr>\n",
              "  </tbody>\n",
              "</table>\n",
              "</div>"
            ],
            "text/plain": [
              "                                                   0\n",
              "0  [LLOY, Lloyds Banking Group PLC, GBX 46.24, 0....\n",
              "1        [NWG, Natwest Group PLC, GBX 213.00, 0.00%]\n",
              "2            [BARC, Barclays PLC, GBX 181.40, 0.00%]\n",
              "3       [HSBA, HSBC Holdings plc, GBX 403.95, 0.00%]\n",
              "4  [STAN, Standard Chartered PLC, GBX 454.20, 0.00%]\n",
              "5     [VMUK, Virgin Money UK PLC, GBX 200.70, 0.00%]"
            ]
          },
          "execution_count": 18,
          "metadata": {
            "tags": []
          },
          "output_type": "execute_result"
        }
      ],
      "source": [
        "df = pd.DataFrame(data)\n",
        "df"
      ]
    },
    {
      "attachments": {},
      "cell_type": "markdown",
      "metadata": {
        "id": "ks3_qlHJhmmY"
      },
      "source": [
        "An alternative method is to build the dataframe within the loop\n",
        "The idea is to fill up the dataframe step by step as you deal with each item in your loop\n",
        "The following code does this:"
      ]
    },
    {
      "cell_type": "code",
      "execution_count": 25,
      "metadata": {
        "id": "Qlh_jkhohygg"
      },
      "outputs": [],
      "source": [
        "url_base = \"https://www.google.com/finance/quote/{}:LON\"\n",
        "\n",
        "tickers = ['LLOY', 'NWG', 'BARC', 'HSBA', 'STAN', 'VMUK']\n",
        "\n",
        "# //Set up a blank DataFrame to fill up:\n",
        "df = pd.DataFrame()\n",
        "\n",
        "for t in tickers:\n",
        "   \n",
        "   # // Return the index number of the thing we are working with:\n",
        "   s = tickers.index(t)\n",
        "   \n",
        "   # // Build the URL for this iteration of the loop:\n",
        "   URL = url_base.format(t)\n",
        "   \n",
        "   # // Request the html from the URL:\n",
        "   html = requests.get(URL)\n",
        "   \n",
        "   # // Get the soup of this page\n",
        "   soup = BeautifulSoup(html.content, 'html.parser')\n",
        "   \n",
        "   # // Now get what we want from the page: \n",
        "   name = soup.find_all(\"h1\")\n",
        "   price = soup.find_all(\"div\", class_=\"YMlKec fxKbKc\")\n",
        "   ticker = soup.find_all(\"div\", class_=\"COaKTb OTVmSe\")\n",
        "   change = soup.find_all(\"div\", class_=\"JwB6zf\")\n",
        "   \n",
        "   # // Add the date we got the data:\n",
        "   date = pd.to_datetime('today').normalize()\n",
        "   \n",
        "   name = name[0].text\n",
        "   price = price[0].text\n",
        "   # // ticker = ticker[0].text\n",
        "   change = change[0].text\n",
        "   \n",
        "   # // Group together:\n",
        "   results = [date, t, name, price, change]\n",
        "   \n",
        "   # // Convert array into dataframe:\n",
        "   # // This will change with each iteration of the loop:\n",
        "   # // [This is why I use subscript t, as a reminder]\n",
        "   df_t = pd.DataFrame(results)\n",
        "   \n",
        "   # // Name this column of data:\n",
        "   # // I want this column to update, named to be the name of the ticker i.e. 1, 2, 3.\n",
        "   df_t.columns = ['Data']\n",
        "   \n",
        "   # // Add this to the master dataframe:\n",
        "   df[s] = df_t['Data']"
      ]
    },
    {
      "cell_type": "code",
      "execution_count": 26,
      "metadata": {
        "colab": {
          "base_uri": "https://localhost:8080/",
          "height": 204
        },
        "id": "Dw40qN6uiiDh",
        "outputId": "3c59ee7c-7d2b-421c-fb7d-b408be7536c4"
      },
      "outputs": [
        {
          "data": {
            "text/html": [
              "<div>\n",
              "<style scoped>\n",
              "    .dataframe tbody tr th:only-of-type {\n",
              "        vertical-align: middle;\n",
              "    }\n",
              "\n",
              "    .dataframe tbody tr th {\n",
              "        vertical-align: top;\n",
              "    }\n",
              "\n",
              "    .dataframe thead th {\n",
              "        text-align: right;\n",
              "    }\n",
              "</style>\n",
              "<table border=\"1\" class=\"dataframe\">\n",
              "  <thead>\n",
              "    <tr style=\"text-align: right;\">\n",
              "      <th></th>\n",
              "      <th>0</th>\n",
              "      <th>1</th>\n",
              "      <th>2</th>\n",
              "      <th>3</th>\n",
              "      <th>4</th>\n",
              "      <th>5</th>\n",
              "    </tr>\n",
              "  </thead>\n",
              "  <tbody>\n",
              "    <tr>\n",
              "      <th>0</th>\n",
              "      <td>2021-08-06 00:00:00</td>\n",
              "      <td>2021-08-06 00:00:00</td>\n",
              "      <td>2021-08-06 00:00:00</td>\n",
              "      <td>2021-08-06 00:00:00</td>\n",
              "      <td>2021-08-06 00:00:00</td>\n",
              "      <td>2021-08-06 00:00:00</td>\n",
              "    </tr>\n",
              "    <tr>\n",
              "      <th>1</th>\n",
              "      <td>LLOY</td>\n",
              "      <td>NWG</td>\n",
              "      <td>BARC</td>\n",
              "      <td>HSBA</td>\n",
              "      <td>STAN</td>\n",
              "      <td>VMUK</td>\n",
              "    </tr>\n",
              "    <tr>\n",
              "      <th>2</th>\n",
              "      <td>Lloyds Banking Group PLC</td>\n",
              "      <td>Natwest Group PLC</td>\n",
              "      <td>Barclays PLC</td>\n",
              "      <td>HSBC Holdings plc</td>\n",
              "      <td>Standard Chartered PLC</td>\n",
              "      <td>Virgin Money UK PLC</td>\n",
              "    </tr>\n",
              "    <tr>\n",
              "      <th>3</th>\n",
              "      <td>GBX 46.43</td>\n",
              "      <td>GBX 213.40</td>\n",
              "      <td>GBX 181.94</td>\n",
              "      <td>GBX 405.85</td>\n",
              "      <td>GBX 455.60</td>\n",
              "      <td>GBX 201.90</td>\n",
              "    </tr>\n",
              "    <tr>\n",
              "      <th>4</th>\n",
              "      <td>-0.089%</td>\n",
              "      <td>-0.089%</td>\n",
              "      <td>-0.089%</td>\n",
              "      <td>-0.089%</td>\n",
              "      <td>-0.089%</td>\n",
              "      <td>-0.089%</td>\n",
              "    </tr>\n",
              "  </tbody>\n",
              "</table>\n",
              "</div>"
            ],
            "text/plain": [
              "                          0  ...                    5\n",
              "0       2021-08-06 00:00:00  ...  2021-08-06 00:00:00\n",
              "1                      LLOY  ...                 VMUK\n",
              "2  Lloyds Banking Group PLC  ...  Virgin Money UK PLC\n",
              "3                 GBX 46.43  ...           GBX 201.90\n",
              "4                   -0.089%  ...              -0.089%\n",
              "\n",
              "[5 rows x 6 columns]"
            ]
          },
          "execution_count": 26,
          "metadata": {
            "tags": []
          },
          "output_type": "execute_result"
        }
      ],
      "source": [
        "df"
      ]
    },
    {
      "attachments": {},
      "cell_type": "markdown",
      "metadata": {
        "id": "1Rfe7AxfiqOv"
      },
      "source": [
        "Trasnpose this:"
      ]
    },
    {
      "cell_type": "code",
      "execution_count": 27,
      "metadata": {
        "colab": {
          "base_uri": "https://localhost:8080/",
          "height": 235
        },
        "id": "2L4WCAxfinNR",
        "outputId": "38c9631d-e163-4a72-dd49-c821916a8cf6"
      },
      "outputs": [
        {
          "data": {
            "text/html": [
              "<div>\n",
              "<style scoped>\n",
              "    .dataframe tbody tr th:only-of-type {\n",
              "        vertical-align: middle;\n",
              "    }\n",
              "\n",
              "    .dataframe tbody tr th {\n",
              "        vertical-align: top;\n",
              "    }\n",
              "\n",
              "    .dataframe thead th {\n",
              "        text-align: right;\n",
              "    }\n",
              "</style>\n",
              "<table border=\"1\" class=\"dataframe\">\n",
              "  <thead>\n",
              "    <tr style=\"text-align: right;\">\n",
              "      <th></th>\n",
              "      <th>0</th>\n",
              "      <th>1</th>\n",
              "      <th>2</th>\n",
              "      <th>3</th>\n",
              "      <th>4</th>\n",
              "    </tr>\n",
              "  </thead>\n",
              "  <tbody>\n",
              "    <tr>\n",
              "      <th>0</th>\n",
              "      <td>2021-08-06</td>\n",
              "      <td>LLOY</td>\n",
              "      <td>Lloyds Banking Group PLC</td>\n",
              "      <td>GBX 46.43</td>\n",
              "      <td>-0.089%</td>\n",
              "    </tr>\n",
              "    <tr>\n",
              "      <th>1</th>\n",
              "      <td>2021-08-06</td>\n",
              "      <td>NWG</td>\n",
              "      <td>Natwest Group PLC</td>\n",
              "      <td>GBX 213.40</td>\n",
              "      <td>-0.089%</td>\n",
              "    </tr>\n",
              "    <tr>\n",
              "      <th>2</th>\n",
              "      <td>2021-08-06</td>\n",
              "      <td>BARC</td>\n",
              "      <td>Barclays PLC</td>\n",
              "      <td>GBX 181.94</td>\n",
              "      <td>-0.089%</td>\n",
              "    </tr>\n",
              "    <tr>\n",
              "      <th>3</th>\n",
              "      <td>2021-08-06</td>\n",
              "      <td>HSBA</td>\n",
              "      <td>HSBC Holdings plc</td>\n",
              "      <td>GBX 405.85</td>\n",
              "      <td>-0.089%</td>\n",
              "    </tr>\n",
              "    <tr>\n",
              "      <th>4</th>\n",
              "      <td>2021-08-06</td>\n",
              "      <td>STAN</td>\n",
              "      <td>Standard Chartered PLC</td>\n",
              "      <td>GBX 455.60</td>\n",
              "      <td>-0.089%</td>\n",
              "    </tr>\n",
              "    <tr>\n",
              "      <th>5</th>\n",
              "      <td>2021-08-06</td>\n",
              "      <td>VMUK</td>\n",
              "      <td>Virgin Money UK PLC</td>\n",
              "      <td>GBX 201.90</td>\n",
              "      <td>-0.089%</td>\n",
              "    </tr>\n",
              "  </tbody>\n",
              "</table>\n",
              "</div>"
            ],
            "text/plain": [
              "           0     1                         2           3        4\n",
              "0 2021-08-06  LLOY  Lloyds Banking Group PLC   GBX 46.43  -0.089%\n",
              "1 2021-08-06   NWG         Natwest Group PLC  GBX 213.40  -0.089%\n",
              "2 2021-08-06  BARC              Barclays PLC  GBX 181.94  -0.089%\n",
              "3 2021-08-06  HSBA         HSBC Holdings plc  GBX 405.85  -0.089%\n",
              "4 2021-08-06  STAN    Standard Chartered PLC  GBX 455.60  -0.089%\n",
              "5 2021-08-06  VMUK       Virgin Money UK PLC  GBX 201.90  -0.089%"
            ]
          },
          "execution_count": 27,
          "metadata": {
            "tags": []
          },
          "output_type": "execute_result"
        }
      ],
      "source": [
        "df = df.T\n",
        "df"
      ]
    },
    {
      "attachments": {},
      "cell_type": "markdown",
      "metadata": {
        "id": "ab0quHWLiwUZ"
      },
      "source": [
        "Add some names to the columns:"
      ]
    },
    {
      "cell_type": "code",
      "execution_count": 28,
      "metadata": {
        "colab": {
          "base_uri": "https://localhost:8080/",
          "height": 235
        },
        "id": "UDAeklxTi0Da",
        "outputId": "174f8337-c855-4ee8-f0f2-c020d663abaa"
      },
      "outputs": [
        {
          "data": {
            "text/html": [
              "<div>\n",
              "<style scoped>\n",
              "    .dataframe tbody tr th:only-of-type {\n",
              "        vertical-align: middle;\n",
              "    }\n",
              "\n",
              "    .dataframe tbody tr th {\n",
              "        vertical-align: top;\n",
              "    }\n",
              "\n",
              "    .dataframe thead th {\n",
              "        text-align: right;\n",
              "    }\n",
              "</style>\n",
              "<table border=\"1\" class=\"dataframe\">\n",
              "  <thead>\n",
              "    <tr style=\"text-align: right;\">\n",
              "      <th></th>\n",
              "      <th>Date</th>\n",
              "      <th>Ticker</th>\n",
              "      <th>Company</th>\n",
              "      <th>Price</th>\n",
              "      <th>Change</th>\n",
              "    </tr>\n",
              "  </thead>\n",
              "  <tbody>\n",
              "    <tr>\n",
              "      <th>0</th>\n",
              "      <td>2021-08-06</td>\n",
              "      <td>LLOY</td>\n",
              "      <td>Lloyds Banking Group PLC</td>\n",
              "      <td>GBX 46.43</td>\n",
              "      <td>-0.089%</td>\n",
              "    </tr>\n",
              "    <tr>\n",
              "      <th>1</th>\n",
              "      <td>2021-08-06</td>\n",
              "      <td>NWG</td>\n",
              "      <td>Natwest Group PLC</td>\n",
              "      <td>GBX 213.40</td>\n",
              "      <td>-0.089%</td>\n",
              "    </tr>\n",
              "    <tr>\n",
              "      <th>2</th>\n",
              "      <td>2021-08-06</td>\n",
              "      <td>BARC</td>\n",
              "      <td>Barclays PLC</td>\n",
              "      <td>GBX 181.94</td>\n",
              "      <td>-0.089%</td>\n",
              "    </tr>\n",
              "    <tr>\n",
              "      <th>3</th>\n",
              "      <td>2021-08-06</td>\n",
              "      <td>HSBA</td>\n",
              "      <td>HSBC Holdings plc</td>\n",
              "      <td>GBX 405.85</td>\n",
              "      <td>-0.089%</td>\n",
              "    </tr>\n",
              "    <tr>\n",
              "      <th>4</th>\n",
              "      <td>2021-08-06</td>\n",
              "      <td>STAN</td>\n",
              "      <td>Standard Chartered PLC</td>\n",
              "      <td>GBX 455.60</td>\n",
              "      <td>-0.089%</td>\n",
              "    </tr>\n",
              "    <tr>\n",
              "      <th>5</th>\n",
              "      <td>2021-08-06</td>\n",
              "      <td>VMUK</td>\n",
              "      <td>Virgin Money UK PLC</td>\n",
              "      <td>GBX 201.90</td>\n",
              "      <td>-0.089%</td>\n",
              "    </tr>\n",
              "  </tbody>\n",
              "</table>\n",
              "</div>"
            ],
            "text/plain": [
              "        Date Ticker                   Company       Price   Change\n",
              "0 2021-08-06   LLOY  Lloyds Banking Group PLC   GBX 46.43  -0.089%\n",
              "1 2021-08-06    NWG         Natwest Group PLC  GBX 213.40  -0.089%\n",
              "2 2021-08-06   BARC              Barclays PLC  GBX 181.94  -0.089%\n",
              "3 2021-08-06   HSBA         HSBC Holdings plc  GBX 405.85  -0.089%\n",
              "4 2021-08-06   STAN    Standard Chartered PLC  GBX 455.60  -0.089%\n",
              "5 2021-08-06   VMUK       Virgin Money UK PLC  GBX 201.90  -0.089%"
            ]
          },
          "execution_count": 28,
          "metadata": {
            "tags": []
          },
          "output_type": "execute_result"
        }
      ],
      "source": [
        "# // Now add the names as the names of the columns:   \n",
        "df.columns = ['Date', 'Ticker','Company', 'Price', 'Change']\n",
        "df"
      ]
    },
    {
      "attachments": {},
      "cell_type": "markdown",
      "metadata": {
        "id": "EwayOurnphqT"
      },
      "source": [
        "Now save this as today's stock prices:"
      ]
    },
    {
      "cell_type": "code",
      "execution_count": 31,
      "metadata": {
        "id": "KHsgKpslpoGC"
      },
      "outputs": [],
      "source": [
        "# // Now save as today's prices:   \n",
        "df.to_csv(\"todaysStockPrices.csv\")"
      ]
    },
    {
      "cell_type": "code",
      "execution_count": null,
      "metadata": {
        "id": "il4KKDeHp4tm"
      },
      "outputs": [],
      "source": [
        "# // TIP: to find working directory - to find where the file has gone\n",
        "os.getcwd()"
      ]
    }
  ],
  "metadata": {
    "colab": {
      "collapsed_sections": [],
      "include_colab_link": true,
      "name": "firstScraper.ipynb",
      "provenance": []
    },
    "kernelspec": {
      "display_name": "Python 3",
      "name": "python3"
    },
    "language_info": {
      "name": "python"
    }
  },
  "nbformat": 4,
  "nbformat_minor": 0
}
